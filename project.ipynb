{
 "cells": [
  {
   "cell_type": "markdown",
   "id": "61125152",
   "metadata": {},
   "source": [
    "##### Miljön är *LunarLander-v3*\n",
    "\n",
    "    Action space: diskret (gör inget, vänster motor, huvudmotor, höger motor)\n",
    "    Observation space: box (skeppets kordinater, hastighet, vinkel, vinkelhastighet, markkontakt per ben)\n",
    "\n",
    "Löst episod: minst 200 poäng\n",
    "\n",
    "##### Modeller\n",
    "\n",
    "DQN\n",
    "- Använder sig av Q-Learning för att hitta optimala policyn\n",
    "- Action-values → lär sig vilka handlingar är bra\n",
    "- Off-policy → lär sig av en annan policy än den agenten använder\n",
    "- Kan, i princip, använda data från vilken punkt som helst under inlärning för att lära sig\n",
    "\n",
    "PPO\n",
    "- Lär sig en policy direkt och försöker optimera den\n",
    "- State-values → lär sig vilka tillstånd är bra\n",
    "- On-policy → lär sig på basis av policyn som agenten använder\n",
    "- Använder endast den senaste datan för att lära sig\n",
    "\n",
    "Två väldigt olika typer av modeller.\n",
    "<br>\n",
    "<br>\n",
    "\n",
    "Undersökte vad hyperparametrarna påverkar och vilka värden brukar användas för att få en uppfattning om var det lönar sig att börja med hyperparametrarna. Testade med olika kombinationer, samt längder på inlärning och observerade resultatet – evalurade modellerna ofta under träning för att se utvecklingen. För DQN använde jag även optuna för att försöka hitta optimala parametrar, men resultaten var inte värst bra och gick tillbaka till att testa manuellt. \n",
    "\n",
    "DQN krävde mer testning och justering av hyperparametrar än PPO för att lösa miljön. PPO fungerade ganska bra med de flesta av hyperparametrarna som default värden och var överlag mindre känslig för möjligen ooptimala(re) hyperparametrar, medans när man gjorde ett sämre hyperparameterval till DQN syntes det tydligt. Samma kunde observeras med överträning – att fortsätta träna PPO ett tag efter att den löst miljön konsekvent verkade inte direkt leda till någon försämring i prestation, medans DQN verkade känsligare för detta."
   ]
  },
  {
   "cell_type": "markdown",
   "id": "5f1d181f",
   "metadata": {},
   "source": [
    "\\*\\* länk för tillhörande graf finns under varje kodsnutt, då plotly grafer har tendes att inte synas efter filuppladdning"
   ]
  },
  {
   "cell_type": "code",
   "execution_count": 24,
   "id": "b6e400fb",
   "metadata": {},
   "outputs": [],
   "source": [
    "import warnings\n",
    "warnings.simplefilter(action='ignore', category=FutureWarning)\n",
    "warnings.simplefilter(action='ignore', category=UserWarning)"
   ]
  },
  {
   "cell_type": "code",
   "execution_count": 25,
   "id": "c75e2dbc",
   "metadata": {},
   "outputs": [],
   "source": [
    "import gymnasium as gym\n",
    "from stable_baselines3 import PPO, DQN\n",
    "from stable_baselines3.common.monitor import Monitor\n",
    "from stable_baselines3.common.env_util import make_vec_env\n",
    "from stable_baselines3.common.callbacks import EvalCallback\n",
    "import optuna\n",
    "from stable_baselines3.common.evaluation import evaluate_policy\n",
    "import os"
   ]
  },
  {
   "cell_type": "markdown",
   "id": "7986250c",
   "metadata": {},
   "source": [
    "#### PPO"
   ]
  },
  {
   "cell_type": "code",
   "execution_count": 3,
   "id": "998196c9",
   "metadata": {},
   "outputs": [],
   "source": [
    "env_vec = make_vec_env(\"LunarLander-v3\", n_envs=16)\n",
    "env_eval = make_vec_env(\"LunarLander-v3\", n_envs=5)\n",
    "eval_callback = EvalCallback(\n",
    "    env_eval,\n",
    "    best_model_save_path=\"./models/ppo_best\",\n",
    "    eval_freq=1000,\n",
    "    n_eval_episodes=20,\n",
    "    log_path='./logs/ppo'\n",
    ")"
   ]
  },
  {
   "cell_type": "markdown",
   "id": "bfe1b15d",
   "metadata": {},
   "source": [
    "`learning_rate=1e-4` – Låg learning rate för stabilare inlärning, nya upplevelser har lägre direkt inverkan på det redan lärda\n",
    "    \n",
    "`gae_lambda=0.98` – (lägre) bias vs (högre) varians, högre verkade göra inlärningen lite stabilare och modellen bättre.\n",
    "\n",
    "`n_steps=1024` – Uppdaterar policyn varje 1024 steps –> relativt ofta men detta verkade producera bättre modell än högre värde\n",
    "\n",
    "`ent_coef=0.01` – Hur mycket agenten utforskar, utforskar lite\n",
    "\n",
    "`gamma=0.999` – Värderar lånsiktiga belöningar, högre värde verkade fungera bättre\n",
    "\n",
    "`n_epochs=10` – Hur många gånger samlade datan används för inlärning, högre verkade producera stabilare inlärning speciellt i början, men lägre fungerade också"
   ]
  },
  {
   "cell_type": "code",
   "execution_count": null,
   "id": "732fe26a",
   "metadata": {},
   "outputs": [
    {
     "name": "stdout",
     "output_type": "stream",
     "text": [
      "Using cpu device\n"
     ]
    }
   ],
   "source": [
    "model_ppo = PPO(\n",
    "    \"MlpPolicy\",\n",
    "    env_vec,\n",
    "    learning_rate=1e-4,\n",
    "    verbose=1,\n",
    "    gae_lambda=0.98,\n",
    "    n_steps=1024,\n",
    "    ent_coef=0.01,\n",
    "    gamma=0.999,\n",
    "    n_epochs=10\n",
    ")"
   ]
  },
  {
   "cell_type": "code",
   "execution_count": null,
   "id": "90bed2eb",
   "metadata": {},
   "outputs": [],
   "source": [
    "model_ppo.learn(total_timesteps=2e6, callback=eval_callback)"
   ]
  },
  {
   "cell_type": "markdown",
   "id": "46b78202",
   "metadata": {},
   "source": [
    "#### DQN"
   ]
  },
  {
   "cell_type": "code",
   "execution_count": 2,
   "id": "98afb1b1",
   "metadata": {},
   "outputs": [
    {
     "name": "stderr",
     "output_type": "stream",
     "text": [
      "/Users/ellenmolin/Desktop/prescriptiveAn/.venv/lib/python3.12/site-packages/pygame/pkgdata.py:25: UserWarning: pkg_resources is deprecated as an API. See https://setuptools.pypa.io/en/latest/pkg_resources.html. The pkg_resources package is slated for removal as early as 2025-11-30. Refrain from using this package or pin to Setuptools<81.\n",
      "  from pkg_resources import resource_stream, resource_exists\n"
     ]
    }
   ],
   "source": [
    "env_vec = make_vec_env(\"LunarLander-v3\", n_envs=16)\n",
    "env_eval = make_vec_env(\"LunarLander-v3\", n_envs=5)\n",
    "eval_callback = EvalCallback(\n",
    "    env_eval,\n",
    "    best_model_save_path=\"./models/dqn_best\",\n",
    "    eval_freq=1000,\n",
    "    n_eval_episodes=20,\n",
    "    log_path='./logs/dqn'\n",
    ")"
   ]
  },
  {
   "cell_type": "markdown",
   "id": "2f0a169f",
   "metadata": {},
   "source": [
    "`learning_rate=2e-5` – Låg learning rate för stabilare inlärning, nya upplevelser har lägre direkt inverkan på det redan lärda\n",
    "\n",
    "<br> \n",
    "\n",
    "`batch_size=256` – Hur många \"minnen\" konsulteras vid uppdatering, högre gjorde inlärning betydligt snabbare\n",
    "\n",
    "`buffer_size=100_000` – \"Längden på agentens minne\", högre gjorde inlärning betydligt snabbare\n",
    "\n",
    "- `batch_size=128` och `buffer_size=50_000` producerade även en agent som kunde lösa miljön, men `batch_size=128` och `buffer_size=100_000` var dålig kombination\n",
    "\n",
    "<br>\n",
    "\n",
    "`gamma=0.99` – Värderar långsiktiga belöningar, 0.999 verkade producera sämre modell vilket var intressant\n",
    "\n",
    "`target_update_interval= 500` – Uppdaterar target network varje 500 steps, oftare verkade producera bättre modell\n",
    "\n",
    "`learning_starts=100` – Observerar miljön i 100 steps före inlärning börjar\n",
    "\n",
    "`gradient_steps=-1` – Default (1) skapade dålig agent, detta fungerade betydligt bättre\n",
    "\n",
    "`exploration_fraction=0.12` – Utforskning minskar till 0.02 under första 12% av träning\n",
    "\n",
    "`exploration_final_eps=0.02` – Utforskar en aning, lågt värde verkade göra agenten stabilare\n",
    "\n",
    "2st dolda lager i neurala nätverket med storlek 256"
   ]
  },
  {
   "cell_type": "code",
   "execution_count": null,
   "id": "4f501be2",
   "metadata": {},
   "outputs": [
    {
     "name": "stdout",
     "output_type": "stream",
     "text": [
      "Using cpu device\n"
     ]
    }
   ],
   "source": [
    "net_arch = [256, 256]\n",
    "policy_kwargs = dict(net_arch=net_arch)\n",
    "\n",
    "model_dqn = DQN(\n",
    "    \"MlpPolicy\",\n",
    "    env_vec,\n",
    "    learning_rate=2e-5,\n",
    "    batch_size=256,\n",
    "    buffer_size=100_000,\n",
    "    verbose=1,\n",
    "    gamma=0.99,\n",
    "    target_update_interval= 500,\n",
    "    learning_starts=100,\n",
    "    gradient_steps=-1,\n",
    "    exploration_fraction=0.12,\n",
    "    exploration_final_eps=0.02,\n",
    "    policy_kwargs=policy_kwargs\n",
    ")"
   ]
  },
  {
   "cell_type": "code",
   "execution_count": null,
   "id": "d856caf2",
   "metadata": {},
   "outputs": [],
   "source": [
    "model_dqn.learn(total_timesteps=9e5, callback=eval_callback)"
   ]
  },
  {
   "cell_type": "markdown",
   "id": "dac8f9c1",
   "metadata": {},
   "source": [
    "##### Optuna study"
   ]
  },
  {
   "cell_type": "markdown",
   "id": "142fe100",
   "metadata": {},
   "source": [
    "Söker optimala parameterkombinationer, testade olika kombinationer för kategoriska parametrar och värdeintervaller."
   ]
  },
  {
   "cell_type": "code",
   "execution_count": null,
   "id": "ae2594ec",
   "metadata": {},
   "outputs": [],
   "source": [
    "def objective(trial):\n",
    "\n",
    "    trial_env = gym.make(\"LunarLander-v3\")\n",
    "    trial_env = Monitor(trial_env)\n",
    "    \n",
    "    learning_rate = trial.suggest_float('learning_rate', 1e-5, 1e-3)\n",
    "    gamma = trial.suggest_float('gamma', 0.98, 0.9999)\n",
    "    layer_size = trial.suggest_categorical('layer_size', [64, 128, 256])    \n",
    "    batch_size = trial.suggest_categorical(\"batch_size\", [64, 128, 256])\n",
    "    learning_starts = trial.suggest_categorical('learning_starts', [0, 50, 100])\n",
    "    buffer_size = trial.suggest_categorical('buffer_size', [40_000, 50_000, 60_000])\n",
    "    train_freq = trial.suggest_categorical('train_freq', [4,6,8])\n",
    "    gradient_steps = trial.suggest_categorical('gradient_steps', [-1])\n",
    "    exploration_fraction = trial.suggest_float('exploration_fraction', 0.1, 0.2)\n",
    "    exploration_final_eps = trial.suggest_float('exploration_final_eps', 0.05, 0.15)\n",
    "\n",
    "    net_arch = [layer_size, layer_size]\n",
    "    policy_kwargs = dict(net_arch=net_arch)\n",
    "    \n",
    "    model = DQN(\n",
    "        \"MlpPolicy\", \n",
    "        trial_env, \n",
    "        learning_rate=learning_rate, \n",
    "        gamma=gamma,\n",
    "        batch_size=batch_size,\n",
    "        exploration_fraction=exploration_fraction,\n",
    "        exploration_final_eps=exploration_final_eps,\n",
    "        learning_starts=learning_starts,\n",
    "        buffer_size=buffer_size,\n",
    "        train_freq=train_freq,\n",
    "        gradient_steps=gradient_steps,\n",
    "        policy_kwargs=policy_kwargs,\n",
    "        verbose=0\n",
    "    )\n",
    "    \n",
    "    model.learn(total_timesteps=15000)\n",
    "    \n",
    "    mean_reward, _ = evaluate_policy(model, trial_env, n_eval_episodes=50)\n",
    "    trial_env.close()\n",
    "    return mean_reward"
   ]
  },
  {
   "cell_type": "code",
   "execution_count": null,
   "id": "b3543653",
   "metadata": {},
   "outputs": [],
   "source": [
    "LOG_DIR = \"out/logs/\"\n",
    "os.makedirs(LOG_DIR, exist_ok=True)\n",
    "STORAGE_PATH = \"sqlite:///out/my_study.db\"\n",
    "STUDY_NAME = \"dqn-ll-optimization\"\n",
    "NUM_TRIALS_TO_RUN = 100\n",
    "\n",
    "study = optuna.create_study(\n",
    "    direction=\"maximize\",\n",
    "    study_name=STUDY_NAME,\n",
    "    storage=STORAGE_PATH,\n",
    "    load_if_exists=True\n",
    ")\n",
    "\n",
    "best_trial = study.best_trial\n",
    "if best_trial:\n",
    "    print(f\"  Value (Mean Reward): {best_trial.value:.2f}\")\n",
    "    print(\"  Params: \")\n",
    "    for key, value in best_trial.params.items():\n",
    "        print(f\"    {key}: {value}\")\n",
    "        \n",
    "    best_params = best_trial.params.copy()\n",
    "    final_layer_size = best_params.pop('layer_size')\n",
    "    final_policy_kwargs = dict(net_arch=[final_layer_size, final_layer_size])\n",
    "    \n",
    "    final_env = gym.make(\"LunarLander-v3\")\n",
    "    final_log_path = os.path.join(LOG_DIR, \"final_model_logs\")\n",
    "    final_env = Monitor(final_env, final_log_path)\n",
    "    \n",
    "    final_model = DQN(\"MlpPolicy\", final_env, policy_kwargs=final_policy_kwargs,\n",
    "                      **best_params, verbose=0)\n",
    "    \n",
    "    final_model.learn(total_timesteps=50000)\n",
    "    final_model.save(\"out/best_lunar_model\")\n",
    "    \n",
    "    eval_env = Monitor(gym.make(\"LunarLander-v3\"), 'out/logs/final_model_eval')\n",
    "    mean_reward, std_reward = evaluate_policy(final_model, eval_env, n_eval_episodes=100)\n",
    "    print(f\"Final Model: Mean reward = {mean_reward:.2f} +/- {std_reward:.2f}\")\n",
    "    eval_env.close()\n",
    "    "
   ]
  },
  {
   "cell_type": "markdown",
   "id": "92ad295b",
   "metadata": {},
   "source": [
    "(exempel) output:\n",
    "\n",
    "  Value (Mean Reward): 18.01\n",
    "\n",
    "  Params: <br>\n",
    "  <code>learning_rate: 0.0007525695954787247 <br>\n",
    "    gamma: 0.9831604862288565 <br>\n",
    "    layer_size: 256 <br>\n",
    "    batch_size: 128<br>\n",
    "    learning_starts: 0<br>\n",
    "    buffer_size: 40000<br>\n",
    "    train_freq: 8<br>\n",
    "    gradient_steps: -1 <br>\n",
    "    exploration_fraction: 0.17139725460556557 <br>\n",
    "    exploration_final_eps: 0.056871603608688294 <br> </code>\n",
    "\n",
    "Final Model: Mean reward = -89.55 +/- 129.90"
   ]
  },
  {
   "cell_type": "markdown",
   "id": "2dc65934",
   "metadata": {},
   "source": [
    "Körde studien ett antal gånger och testade en del av de bättre resultaten genom att träna modellen lite längre med hyperparametrarna. Inga av de testade producerade direkt bra resultat.\n",
    "\n",
    "DQN behövde också allmänt några hundra tusen steg i miljön för att visa resultat man kunde dra några slutsatser av, men att köra en hyperparameteroptimations studie var varje kombination testas minst runt hundra tusen steg för att på riktigt få en uppfatning om kombinationen skulle inte ha varit görbart."
   ]
  },
  {
   "cell_type": "markdown",
   "id": "157664a6",
   "metadata": {},
   "source": [
    "#### Training results"
   ]
  },
  {
   "cell_type": "code",
   "execution_count": null,
   "id": "521e6a09",
   "metadata": {},
   "outputs": [],
   "source": [
    "import pandas as pd\n",
    "import numpy as np\n",
    "import plotly.graph_objects as go"
   ]
  },
  {
   "cell_type": "code",
   "execution_count": 140,
   "id": "2695f992",
   "metadata": {},
   "outputs": [],
   "source": [
    "ppo_data = np.load('logs/ppo/evaluations.npz')\n",
    "ppo_timesteps, ppo_results = ppo_data[\"timesteps\"], ppo_data[\"results\"]\n",
    "\n",
    "ppo_mean_rewards = ppo_results.mean(axis=1)\n",
    "ppo_std_rewards = ppo_results.std(axis=1)"
   ]
  },
  {
   "cell_type": "code",
   "execution_count": 141,
   "id": "fb6bdc6f",
   "metadata": {},
   "outputs": [
    {
     "data": {
      "application/vnd.plotly.v1+json": {
       "config": {
        "plotlyServerURL": "https://plot.ly"
       },
       "data": [
        {
         "mode": "lines",
         "name": "Mean rewards",
         "type": "scatter",
         "x": {
          "bdata": "gD4AAAB9AACAuwAAAPoAAIA4AQAAdwEAgLUBAAD0AQCAMgIAAHECAICvAgAA7gIAgCwDAABrAwCAqQMAAOgDAIAmBAAAZQQAgKMEAADiBACAIAUAAF8FAICdBQAA3AUAgBoGAABZBgCAlwYAANYGAIAUBwAAUwcAgJEHAADQBwCADggAAE0IAICLCAAAyggAgAgJAABHCQCAhQkAAMQJAIACCgAAQQoAgH8KAAC+CgCA/AoAADsLAIB5CwAAuAsAgPYLAAA1DACAcwwAALIMAIDwDAAALw0AgG0NAACsDQCA6g0AACkOAIBnDgAApg4AgOQOAAAjDwCAYQ8AAKAPAIDeDwAAHRAAgFsQAACaEACA2BAAABcRAIBVEQAAlBEAgNIRAAAREgCATxIAAI4SAIDMEgAACxMAgEkTAACIEwCAxhMAAAUUAIBDFAAAghQAgMAUAAD/FACAPRUAAHwVAIC6FQAA+RUAgDcWAAB2FgCAtBYAAPMWAIAxFwAAcBcAgK4XAADtFwCAKxgAAGoYAICoGAAA5xgAgCUZAABkGQCAohkAAOEZAIAfGgAAXhoAgJwaAADbGgCAGRsAAFgbAICWGwAA1RsAgBMcAABSHACAkBwAAM8cAIANHQAATB0AgIodAADJHQCABx4AAEYeAICEHgA=",
          "dtype": "i4"
         },
         "y": {
          "bdata": "u07Zn2qNe8C/lleuJ91ywE0ychZ22l5AOAIC53ZpasCIkF/kKutnwOrqjsV2UGjAcv+R6XCLYMBywK4mDxJYwJomx/grrmPA0uC2tpC1ZsAAdPPoYQ5mwHawWYk0+mXAPLQ0XEliacCLwP0lLo5iwEqOz7+4pmPA2xFOC/59YsC0yHa+HxZkwGBg+25fOFvAovjnWHSAYMAynxj++DhNwB3z8FR2TTrAM4y7QbStOcCyrhsAu9AuwMIbLWIzrSDAptdmY+WbVkCgoo+eh+tjQESY7Ok0bjJAdDFhj+RqZEDTwfo/R3RkQEs0kk5u0WZAaLbQOs+rWUCZObjPhbRhQKkR+pkadmhAFubzQPpPZ0DK+ziaI1VkQOQ1CqSfwWZAJg5FJsUMZEAyA5XxL8FgQJzuhn43E2NA4jTpWyvJZUCUbxFz5BphQIELV6xm0WVA7p6X5Wb2Z0CaSvVTssxhQDfwWY07hWVA0mQQaUU3ZECHF0SkpltgQCzduCAWAWdAHq3FAjrwZED+OiZBTuBpQBp/R/kufmtARv2aUfhgakAKAVTMfMBpQD20jxW8JGtAHW4szVKia0COu/cmvFZnQJ6I2SZwimlAT5ySYpY0Z0CFUJQ6N1NoQFJZFHbRwmtAjfInhbTRbEDjWTj/ZcxsQJBn4fwXqWpA1aRvLc7oakB2yThGUhBtQAsjYu/qJGxAI3Mbw5IRbEBjXuxiH3FsQPtL999PDWxAyFnY0045akDVBPY9L9dqQMI+plrwjWxAQHeTKfC2bEDiicUU8fJuQA2UbxHTV25AIwyo3MncbUA+32C5T5BuQDaj1X8sHG5Ajs75KW7XbUDK99bRwv1uQJ0pzxd2xWxAHWUOkzoQbkD6RnTP+mVvQM0s+CPbSW5AXkIFhzeObkAw4vGjcNhvQC196IK63G5AMztBUc88bkCgYFovgVBuQCbxqOcz1m1AXkDUIkeDbkAYSbvRx4tvQNr5I7Fp625AS2iSWPINb0A+QPflXDNwQFjVgWIaOHBAsXlmk805cEBh4/p3bUxwQFHDEmpRD3BARQ4RN9cAcEBtPr85ra1vQDCGzVtQkW9AexAC8sUbcEBSuB6F2x1wQCaJJeUOQXBAD3gFRw4NcEBm+oCb8CZwQAHuw4vfBnFASH8eWb/WcEBVO8PUNoZwQEkVxav8tHBAEBt2KY8bcUBqsLofcQlxQEthlFYyDHFAjKGcaMefcEAVOekietdwQN+kaVA0wnBAvCqrROSYcEBymHm8ytxwQE968CSDjHBABfHLqkkAcUCvQV9667hwQCi4ot79lXBA1LWbhSLwcEDeHK7VfutwQA==",
          "dtype": "f8"
         }
        },
        {
         "fill": "tonexty",
         "fillcolor": "rgba(255,0,0,0.2)",
         "line": {
          "color": "rgba(0,0,0,0)"
         },
         "mode": "lines",
         "name": "std",
         "showlegend": false,
         "type": "scatter",
         "x": {
          "bdata": "gD4AAAB9AACAuwAAAPoAAIA4AQAAdwEAgLUBAAD0AQCAMgIAAHECAICvAgAA7gIAgCwDAABrAwCAqQMAAOgDAIAmBAAAZQQAgKMEAADiBACAIAUAAF8FAICdBQAA3AUAgBoGAABZBgCAlwYAANYGAIAUBwAAUwcAgJEHAADQBwCADggAAE0IAICLCAAAyggAgAgJAABHCQCAhQkAAMQJAIACCgAAQQoAgH8KAAC+CgCA/AoAADsLAIB5CwAAuAsAgPYLAAA1DACAcwwAALIMAIDwDAAALw0AgG0NAACsDQCA6g0AACkOAIBnDgAApg4AgOQOAAAjDwCAYQ8AAKAPAIDeDwAAHRAAgFsQAACaEACA2BAAABcRAIBVEQAAlBEAgNIRAAAREgCATxIAAI4SAIDMEgAACxMAgEkTAACIEwCAxhMAAAUUAIBDFAAAghQAgMAUAAD/FACAPRUAAHwVAIC6FQAA+RUAgDcWAAB2FgCAtBYAAPMWAIAxFwAAcBcAgK4XAADtFwCAKxgAAGoYAICoGAAA5xgAgCUZAABkGQCAohkAAOEZAIAfGgAAXhoAgJwaAADbGgCAGRsAAFgbAICWGwAA1RsAgBMcAABSHACAkBwAAM8cAIANHQAATB0AgIodAADJHQCABx4AAEYeAICEHgA=",
          "dtype": "i4"
         },
         "y": {
          "bdata": "cl1d/jXNhsDoduOgydp4wNBajlmvkihAHSVGuYpubsAwuSUgOfdwwMA60gG1+23AMpst4b9dbsCtFH5//+BkwF7YwF5+oGnA8ljsbWnkbMC/6oTShyxrwOEYbil0qGvA1DZnZXnAbcAesU/xIBZowFesc4n8HGvAbFHrOksyacAGlb21JqlswACJle4wIGTA7jpUlXmuZ8D/wzz6g+1SwLQ3W33uF0jAVg8HQHDOSMB884vMqLQ+wI2dp9rM+jvAoFjDLWiCLkDINCdkUWJhQHPbgNpAtEXAJksVUH86YEDCZ+HYYW1aQKaXr5dAZl9AgF1udnrf6D+cTIleevROQEf/p8N3+2VA5A/OCFmhYED+qSrotPJbQG4AwpSScGFAbXCEf4IBV0DKVw8yAxVQQMbDttYwa1VAUnDJfL3gYEAfOx0T2oFRQFYVBARia2NAlL5VNkVKZUCU8u7OM7VNQEng+RY8f1xAVFpp78V6XEAUDHiZySpMQC1ODS9qX2RAwxLPw51sWUBhfU2zfq5nQAw7eDb9pWhAAjdq02buZEBHDVsUslxkQDTtmyJyX2hA5BGKvVJnaUAX6jIFoh9eQAp+jcI4q2NA5kmlWRwwWkA8aNxcaLJgQCptt5le+2hAaWASPlvFZ0DzckSHWitqQG7+YosdlmRARiGdaO9HZkCfRTs2gpdqQG0mQOfsfWlAxwIsbJvbaUBxegP00PhnQCuUop2cAmhAlXH1QWjGYEDqVwYpN7FjQND+RSurcmRAjiWmx8QSaEDf7C2AUwdsQN80LKTdAGxAcozIEMeba0CUoaVpbVdsQOaLiTpUGGxAsNJP1ohBa0Ch2p8NbZtsQKHJzsHQ1WhAHHsTrmwLa0BfQs8Cw1psQFnBIZLSpmtA8GKkaiRZbEAh1scRtBVtQJItrAiX82pAdpFe4KkCbECU+6j1jpdrQGWWrksBz2lAIX31Egf+a0Dh5bzG6+ptQBZUXunlUGtA5NSFE6bUa0C8T3qWdBNuQMpwg/9Eu2xA1dsLAK4XbkDm5u4cUiFuQFRH0Q4ezW1AJutaL8lLbUBQycCqWkhtQD5XG/xl2mxAmtnBNlEvbUBHOk8zVYttQKV1vDuCu21A1H4Y57ZGa0C3mDLASkFtQKmNDxUudm9Aa1JZx7+Vb0DKBFJRbERuQBh7ybzYoW5A5DcKRNUscEA0WS8mHY5vQHJmoKg2b29AfAHd+g+HbkD5jgBHhdBuQCapvoeXAG9Ad1b0imLdbkAYXUG0gx9vQN7aOTqgO25AAcZlW366b0BOVqGvolxvQBpumrDaXW5ArNe35/8bb0A12F4LkSlvQA==",
          "dtype": "f8"
         }
        },
        {
         "fill": "tonexty",
         "fillcolor": "rgba(255,0,0,0.2)",
         "line": {
          "color": "rgba(0,0,0,0)"
         },
         "mode": "lines",
         "name": "std",
         "type": "scatter",
         "x": {
          "bdata": "gD4AAAB9AACAuwAAAPoAAIA4AQAAdwEAgLUBAAD0AQCAMgIAAHECAICvAgAA7gIAgCwDAABrAwCAqQMAAOgDAIAmBAAAZQQAgKMEAADiBACAIAUAAF8FAICdBQAA3AUAgBoGAABZBgCAlwYAANYGAIAUBwAAUwcAgJEHAADQBwCADggAAE0IAICLCAAAyggAgAgJAABHCQCAhQkAAMQJAIACCgAAQQoAgH8KAAC+CgCA/AoAADsLAIB5CwAAuAsAgPYLAAA1DACAcwwAALIMAIDwDAAALw0AgG0NAACsDQCA6g0AACkOAIBnDgAApg4AgOQOAAAjDwCAYQ8AAKAPAIDeDwAAHRAAgFsQAACaEACA2BAAABcRAIBVEQAAlBEAgNIRAAAREgCATxIAAI4SAIDMEgAACxMAgEkTAACIEwCAxhMAAAUUAIBDFAAAghQAgMAUAAD/FACAPRUAAHwVAIC6FQAA+RUAgDcWAAB2FgCAtBYAAPMWAIAxFwAAcBcAgK4XAADtFwCAKxgAAGoYAICoGAAA5xgAgCUZAABkGQCAohkAAOEZAIAfGgAAXhoAgJwaAADbGgCAGRsAAFgbAICWGwAA1RsAgBMcAABSHACAkBwAAM8cAIANHQAATB0AgIodAADJHQCABx4AAEYeAICEHgA=",
          "dtype": "i4"
         },
         "y": {
          "bdata": "JsXvhdIAY8AtbZd3C79pwKBM2SBLUW1AU9+9FGNkZsBhXecQx89bwBSbS4k4pWLAlB2zjw/JNcAoXoU5fYg5wKzpmiWzd1vAsmiB/7eGYMBB/WH/O/BgwAtIRen0S2DApDECUxkEZcDwn1e1dgxawHrgVuzpYFjAlKRht2GTV8DF+F+OMQZXwIJdlwG6YEzArGz3ON6kUsBmtrcH6pZEwETbrbw+rBHAoJuPNoDo+7+ANbuPMxK8v5YD9fAymyZAHKKK4L6zZEB4EPjYvXRmQNy5NuI6EVRAwhetzkmbaEDFz4ST3bFrQMOcTFG8721ACkhawO+SaUALIM4H7atrQAskTHC98GpASLwZeZv+bUCVolzA7LBqQFprUrOsEmxAFuTHDMmYbEB/WiJK3ndpQFV7spHWcGtAcvkIO5mxakCYQZTc23RpQKwBqlRrN2hASH/ZlIiiakCP2C60FyxsQErwNg/ZymxAehxs2icxakAJLCrimqxpQCtsZBLComlA2tCjIyUqbUCb+P7OHRJsQCjDFrxgVm5AisPLz4nTb0DN9EyERyRvQEZ7gwgG6m1AVsrO3FLdbUAQAlZLp51vQDKTJYunaW9A1kkpTI+ocEDOOEwYBvRvQHpFcVJEim5AWcIe5gbvcEDTQCx3cW1vQFnoLzcJXnBAZChC8qyJb0BNTTZWIolvQKkfhPfoy25Af+MKGopHbkAqoerotnRwQOUBJpEBDHBA/qDdshrWcUDg2HKpk/5wQFo/A8WaVHJAeWTAxY2tcEByk65UR+9wQJ55WT9kV3BA6sVDVOYOcEB0Do4EmWRwQEPdkGICEHBANuXRvqk2cEB5CgdLDLBwQMzE57aNWnBAj6cEPISKcEDLpQxOmThxQCFM59pxdnBA5hCzUaVhcEAg9w2blk1xQGRmkv7uYnFAePIRYXo7cEDW4oW0uYRwQPSl0UGz7nBAzoFZmUOEcEAo1lzuUZZwQM/PdLz2QnFA2X3PTp8jcUCeWLGA/1xxQEvyQUWSEnJAdwXHJsRncUBPU37hMYhxQPjivMwTOHFA96Z01slbcUDF2V7kfwlxQJHav10dJHFAKTSjSOOfcUCA05VwDHZxQHrXbKxcpHFAtLB+GsF2ckBxqOjWO61xQC4VAA2oUnJAW1WQzp7icUBFdN2AN+pxQAZtJfkMGXJAPP7hDkkKckA6tF2s00tyQF2P2FjJYHJAWsLK0wb8cUCuKlKisUZyQCv189wcBHJAPCrcQxfDcUBYgtKe0ylyQC8HxCw2+3FACv/kJ1QjckA32O2chcNxQEM5+GQO/XFA0n9bF0VSckChzawlNUJyQA==",
          "dtype": "f8"
         }
        }
       ],
       "layout": {
        "autosize": false,
        "height": 500,
        "template": {
         "data": {
          "bar": [
           {
            "error_x": {
             "color": "#2a3f5f"
            },
            "error_y": {
             "color": "#2a3f5f"
            },
            "marker": {
             "line": {
              "color": "#E5ECF6",
              "width": 0.5
             },
             "pattern": {
              "fillmode": "overlay",
              "size": 10,
              "solidity": 0.2
             }
            },
            "type": "bar"
           }
          ],
          "barpolar": [
           {
            "marker": {
             "line": {
              "color": "#E5ECF6",
              "width": 0.5
             },
             "pattern": {
              "fillmode": "overlay",
              "size": 10,
              "solidity": 0.2
             }
            },
            "type": "barpolar"
           }
          ],
          "carpet": [
           {
            "aaxis": {
             "endlinecolor": "#2a3f5f",
             "gridcolor": "white",
             "linecolor": "white",
             "minorgridcolor": "white",
             "startlinecolor": "#2a3f5f"
            },
            "baxis": {
             "endlinecolor": "#2a3f5f",
             "gridcolor": "white",
             "linecolor": "white",
             "minorgridcolor": "white",
             "startlinecolor": "#2a3f5f"
            },
            "type": "carpet"
           }
          ],
          "choropleth": [
           {
            "colorbar": {
             "outlinewidth": 0,
             "ticks": ""
            },
            "type": "choropleth"
           }
          ],
          "contour": [
           {
            "colorbar": {
             "outlinewidth": 0,
             "ticks": ""
            },
            "colorscale": [
             [
              0,
              "#0d0887"
             ],
             [
              0.1111111111111111,
              "#46039f"
             ],
             [
              0.2222222222222222,
              "#7201a8"
             ],
             [
              0.3333333333333333,
              "#9c179e"
             ],
             [
              0.4444444444444444,
              "#bd3786"
             ],
             [
              0.5555555555555556,
              "#d8576b"
             ],
             [
              0.6666666666666666,
              "#ed7953"
             ],
             [
              0.7777777777777778,
              "#fb9f3a"
             ],
             [
              0.8888888888888888,
              "#fdca26"
             ],
             [
              1,
              "#f0f921"
             ]
            ],
            "type": "contour"
           }
          ],
          "contourcarpet": [
           {
            "colorbar": {
             "outlinewidth": 0,
             "ticks": ""
            },
            "type": "contourcarpet"
           }
          ],
          "heatmap": [
           {
            "colorbar": {
             "outlinewidth": 0,
             "ticks": ""
            },
            "colorscale": [
             [
              0,
              "#0d0887"
             ],
             [
              0.1111111111111111,
              "#46039f"
             ],
             [
              0.2222222222222222,
              "#7201a8"
             ],
             [
              0.3333333333333333,
              "#9c179e"
             ],
             [
              0.4444444444444444,
              "#bd3786"
             ],
             [
              0.5555555555555556,
              "#d8576b"
             ],
             [
              0.6666666666666666,
              "#ed7953"
             ],
             [
              0.7777777777777778,
              "#fb9f3a"
             ],
             [
              0.8888888888888888,
              "#fdca26"
             ],
             [
              1,
              "#f0f921"
             ]
            ],
            "type": "heatmap"
           }
          ],
          "histogram": [
           {
            "marker": {
             "pattern": {
              "fillmode": "overlay",
              "size": 10,
              "solidity": 0.2
             }
            },
            "type": "histogram"
           }
          ],
          "histogram2d": [
           {
            "colorbar": {
             "outlinewidth": 0,
             "ticks": ""
            },
            "colorscale": [
             [
              0,
              "#0d0887"
             ],
             [
              0.1111111111111111,
              "#46039f"
             ],
             [
              0.2222222222222222,
              "#7201a8"
             ],
             [
              0.3333333333333333,
              "#9c179e"
             ],
             [
              0.4444444444444444,
              "#bd3786"
             ],
             [
              0.5555555555555556,
              "#d8576b"
             ],
             [
              0.6666666666666666,
              "#ed7953"
             ],
             [
              0.7777777777777778,
              "#fb9f3a"
             ],
             [
              0.8888888888888888,
              "#fdca26"
             ],
             [
              1,
              "#f0f921"
             ]
            ],
            "type": "histogram2d"
           }
          ],
          "histogram2dcontour": [
           {
            "colorbar": {
             "outlinewidth": 0,
             "ticks": ""
            },
            "colorscale": [
             [
              0,
              "#0d0887"
             ],
             [
              0.1111111111111111,
              "#46039f"
             ],
             [
              0.2222222222222222,
              "#7201a8"
             ],
             [
              0.3333333333333333,
              "#9c179e"
             ],
             [
              0.4444444444444444,
              "#bd3786"
             ],
             [
              0.5555555555555556,
              "#d8576b"
             ],
             [
              0.6666666666666666,
              "#ed7953"
             ],
             [
              0.7777777777777778,
              "#fb9f3a"
             ],
             [
              0.8888888888888888,
              "#fdca26"
             ],
             [
              1,
              "#f0f921"
             ]
            ],
            "type": "histogram2dcontour"
           }
          ],
          "mesh3d": [
           {
            "colorbar": {
             "outlinewidth": 0,
             "ticks": ""
            },
            "type": "mesh3d"
           }
          ],
          "parcoords": [
           {
            "line": {
             "colorbar": {
              "outlinewidth": 0,
              "ticks": ""
             }
            },
            "type": "parcoords"
           }
          ],
          "pie": [
           {
            "automargin": true,
            "type": "pie"
           }
          ],
          "scatter": [
           {
            "fillpattern": {
             "fillmode": "overlay",
             "size": 10,
             "solidity": 0.2
            },
            "type": "scatter"
           }
          ],
          "scatter3d": [
           {
            "line": {
             "colorbar": {
              "outlinewidth": 0,
              "ticks": ""
             }
            },
            "marker": {
             "colorbar": {
              "outlinewidth": 0,
              "ticks": ""
             }
            },
            "type": "scatter3d"
           }
          ],
          "scattercarpet": [
           {
            "marker": {
             "colorbar": {
              "outlinewidth": 0,
              "ticks": ""
             }
            },
            "type": "scattercarpet"
           }
          ],
          "scattergeo": [
           {
            "marker": {
             "colorbar": {
              "outlinewidth": 0,
              "ticks": ""
             }
            },
            "type": "scattergeo"
           }
          ],
          "scattergl": [
           {
            "marker": {
             "colorbar": {
              "outlinewidth": 0,
              "ticks": ""
             }
            },
            "type": "scattergl"
           }
          ],
          "scattermap": [
           {
            "marker": {
             "colorbar": {
              "outlinewidth": 0,
              "ticks": ""
             }
            },
            "type": "scattermap"
           }
          ],
          "scattermapbox": [
           {
            "marker": {
             "colorbar": {
              "outlinewidth": 0,
              "ticks": ""
             }
            },
            "type": "scattermapbox"
           }
          ],
          "scatterpolar": [
           {
            "marker": {
             "colorbar": {
              "outlinewidth": 0,
              "ticks": ""
             }
            },
            "type": "scatterpolar"
           }
          ],
          "scatterpolargl": [
           {
            "marker": {
             "colorbar": {
              "outlinewidth": 0,
              "ticks": ""
             }
            },
            "type": "scatterpolargl"
           }
          ],
          "scatterternary": [
           {
            "marker": {
             "colorbar": {
              "outlinewidth": 0,
              "ticks": ""
             }
            },
            "type": "scatterternary"
           }
          ],
          "surface": [
           {
            "colorbar": {
             "outlinewidth": 0,
             "ticks": ""
            },
            "colorscale": [
             [
              0,
              "#0d0887"
             ],
             [
              0.1111111111111111,
              "#46039f"
             ],
             [
              0.2222222222222222,
              "#7201a8"
             ],
             [
              0.3333333333333333,
              "#9c179e"
             ],
             [
              0.4444444444444444,
              "#bd3786"
             ],
             [
              0.5555555555555556,
              "#d8576b"
             ],
             [
              0.6666666666666666,
              "#ed7953"
             ],
             [
              0.7777777777777778,
              "#fb9f3a"
             ],
             [
              0.8888888888888888,
              "#fdca26"
             ],
             [
              1,
              "#f0f921"
             ]
            ],
            "type": "surface"
           }
          ],
          "table": [
           {
            "cells": {
             "fill": {
              "color": "#EBF0F8"
             },
             "line": {
              "color": "white"
             }
            },
            "header": {
             "fill": {
              "color": "#C8D4E3"
             },
             "line": {
              "color": "white"
             }
            },
            "type": "table"
           }
          ]
         },
         "layout": {
          "annotationdefaults": {
           "arrowcolor": "#2a3f5f",
           "arrowhead": 0,
           "arrowwidth": 1
          },
          "autotypenumbers": "strict",
          "coloraxis": {
           "colorbar": {
            "outlinewidth": 0,
            "ticks": ""
           }
          },
          "colorscale": {
           "diverging": [
            [
             0,
             "#8e0152"
            ],
            [
             0.1,
             "#c51b7d"
            ],
            [
             0.2,
             "#de77ae"
            ],
            [
             0.3,
             "#f1b6da"
            ],
            [
             0.4,
             "#fde0ef"
            ],
            [
             0.5,
             "#f7f7f7"
            ],
            [
             0.6,
             "#e6f5d0"
            ],
            [
             0.7,
             "#b8e186"
            ],
            [
             0.8,
             "#7fbc41"
            ],
            [
             0.9,
             "#4d9221"
            ],
            [
             1,
             "#276419"
            ]
           ],
           "sequential": [
            [
             0,
             "#0d0887"
            ],
            [
             0.1111111111111111,
             "#46039f"
            ],
            [
             0.2222222222222222,
             "#7201a8"
            ],
            [
             0.3333333333333333,
             "#9c179e"
            ],
            [
             0.4444444444444444,
             "#bd3786"
            ],
            [
             0.5555555555555556,
             "#d8576b"
            ],
            [
             0.6666666666666666,
             "#ed7953"
            ],
            [
             0.7777777777777778,
             "#fb9f3a"
            ],
            [
             0.8888888888888888,
             "#fdca26"
            ],
            [
             1,
             "#f0f921"
            ]
           ],
           "sequentialminus": [
            [
             0,
             "#0d0887"
            ],
            [
             0.1111111111111111,
             "#46039f"
            ],
            [
             0.2222222222222222,
             "#7201a8"
            ],
            [
             0.3333333333333333,
             "#9c179e"
            ],
            [
             0.4444444444444444,
             "#bd3786"
            ],
            [
             0.5555555555555556,
             "#d8576b"
            ],
            [
             0.6666666666666666,
             "#ed7953"
            ],
            [
             0.7777777777777778,
             "#fb9f3a"
            ],
            [
             0.8888888888888888,
             "#fdca26"
            ],
            [
             1,
             "#f0f921"
            ]
           ]
          },
          "colorway": [
           "#636efa",
           "#EF553B",
           "#00cc96",
           "#ab63fa",
           "#FFA15A",
           "#19d3f3",
           "#FF6692",
           "#B6E880",
           "#FF97FF",
           "#FECB52"
          ],
          "font": {
           "color": "#2a3f5f"
          },
          "geo": {
           "bgcolor": "white",
           "lakecolor": "white",
           "landcolor": "#E5ECF6",
           "showlakes": true,
           "showland": true,
           "subunitcolor": "white"
          },
          "hoverlabel": {
           "align": "left"
          },
          "hovermode": "closest",
          "mapbox": {
           "style": "light"
          },
          "paper_bgcolor": "white",
          "plot_bgcolor": "#E5ECF6",
          "polar": {
           "angularaxis": {
            "gridcolor": "white",
            "linecolor": "white",
            "ticks": ""
           },
           "bgcolor": "#E5ECF6",
           "radialaxis": {
            "gridcolor": "white",
            "linecolor": "white",
            "ticks": ""
           }
          },
          "scene": {
           "xaxis": {
            "backgroundcolor": "#E5ECF6",
            "gridcolor": "white",
            "gridwidth": 2,
            "linecolor": "white",
            "showbackground": true,
            "ticks": "",
            "zerolinecolor": "white"
           },
           "yaxis": {
            "backgroundcolor": "#E5ECF6",
            "gridcolor": "white",
            "gridwidth": 2,
            "linecolor": "white",
            "showbackground": true,
            "ticks": "",
            "zerolinecolor": "white"
           },
           "zaxis": {
            "backgroundcolor": "#E5ECF6",
            "gridcolor": "white",
            "gridwidth": 2,
            "linecolor": "white",
            "showbackground": true,
            "ticks": "",
            "zerolinecolor": "white"
           }
          },
          "shapedefaults": {
           "line": {
            "color": "#2a3f5f"
           }
          },
          "ternary": {
           "aaxis": {
            "gridcolor": "white",
            "linecolor": "white",
            "ticks": ""
           },
           "baxis": {
            "gridcolor": "white",
            "linecolor": "white",
            "ticks": ""
           },
           "bgcolor": "#E5ECF6",
           "caxis": {
            "gridcolor": "white",
            "linecolor": "white",
            "ticks": ""
           }
          },
          "title": {
           "x": 0.05
          },
          "xaxis": {
           "automargin": true,
           "gridcolor": "white",
           "linecolor": "white",
           "ticks": "",
           "title": {
            "standoff": 15
           },
           "zerolinecolor": "white",
           "zerolinewidth": 2
          },
          "yaxis": {
           "automargin": true,
           "gridcolor": "white",
           "linecolor": "white",
           "ticks": "",
           "title": {
            "standoff": 15
           },
           "zerolinecolor": "white",
           "zerolinewidth": 2
          }
         }
        },
        "title": {
         "subtitle": {
          "text": "Evaluation under training"
         },
         "text": "PPO on LunarLander-v3"
        },
        "width": 1000,
        "xaxis": {
         "title": {
          "text": "timesteps"
         }
        },
        "yaxis": {
         "title": {
          "text": "rewards"
         }
        }
       }
      }
     },
     "metadata": {},
     "output_type": "display_data"
    }
   ],
   "source": [
    "fig = go.Figure()\n",
    "fig.add_scatter(x=ppo_timesteps, y=ppo_mean_rewards, name='Mean rewards', mode='lines')\n",
    "fig.add_scatter(x=ppo_timesteps, y=ppo_mean_rewards - ppo_std_rewards, fill='tonexty', mode='lines', line=dict(color='rgba(0,0,0,0)'),\n",
    "                         fillcolor='rgba(255,0,0,0.2)', showlegend=False, name='std')\n",
    "fig.add_scatter(x=ppo_timesteps, y=ppo_mean_rewards + ppo_std_rewards, fill='tonexty', mode='lines', line=dict(color='rgba(0,0,0,0)'),\n",
    "                         fillcolor='rgba(255,0,0,0.2)', name='std')\n",
    "fig.update_layout(title_text='PPO on LunarLander-v3', title_subtitle_text='Evaluation under training', \n",
    "                  xaxis=dict(title=dict(text='timesteps')), yaxis=dict(title=dict(text='rewards')),\n",
    "                  autosize=False, width=1000, height=500)\n",
    "fig.show()"
   ]
  },
  {
   "cell_type": "markdown",
   "id": "230c792f",
   "metadata": {},
   "source": [
    "[plot](plots/ppo_train.png)"
   ]
  },
  {
   "cell_type": "markdown",
   "id": "54143d92",
   "metadata": {},
   "source": [
    "Det kunde antagligen ha räckt att träna PPO i ca. 1.5M timesteps, men som resultaten av träningen visar harmades inte modellen av lite överträning"
   ]
  },
  {
   "cell_type": "code",
   "execution_count": 74,
   "id": "163c9a6b",
   "metadata": {},
   "outputs": [],
   "source": [
    "data = np.load('logs/dqn/evaluations.npz')\n",
    "timesteps, results = data[\"timesteps\"], data[\"results\"]\n",
    "\n",
    "mean_rewards = results.mean(axis=1)\n",
    "std_rewards = results.std(axis=1)"
   ]
  },
  {
   "cell_type": "code",
   "execution_count": 138,
   "id": "f76e21ef",
   "metadata": {},
   "outputs": [
    {
     "data": {
      "application/vnd.plotly.v1+json": {
       "config": {
        "plotlyServerURL": "https://plot.ly"
       },
       "data": [
        {
         "mode": "lines",
         "name": "Mean rewards",
         "type": "scatter",
         "x": {
          "bdata": "gD4AAAB9AACAuwAAAPoAAIA4AQAAdwEAgLUBAAD0AQCAMgIAAHECAICvAgAA7gIAgCwDAABrAwCAqQMAAOgDAIAmBAAAZQQAgKMEAADiBACAIAUAAF8FAICdBQAA3AUAgBoGAABZBgCAlwYAANYGAIAUBwAAUwcAgJEHAADQBwCADggAAE0IAICLCAAAyggAgAgJAABHCQCAhQkAAMQJAIACCgAAQQoAgH8KAAC+CgCA/AoAADsLAIB5CwAAuAsAgPYLAAA1DACAcwwAALIMAIDwDAAALw0AgG0NAACsDQA=",
          "dtype": "i4"
         },
         "y": {
          "bdata": "FjJXBhUYV8BtdZTeEnFSwKq4uxjUqF7AU60qoLXBUsDb2JGPguNEwEXNRp3vAkDAE1lrKLVaO8AyVGqbBwFUwCbwmMtX/yLAZqTeU3lqZsAqV9NQXstkQEL1DyJZ8m5AwU2QInykQkA05fnCGgEwwNMKeD4oqWFAK76h8BmSaUCrEEU3sZFtQA3z1Nm/NF1Aam11lF6HWkCC8LJwA0FnQIBNjBtteG5AIL8SoxIkcED3eeerrxpxQIc5nFSfUHBA7d0f7zXdb0AmpUUiGQxqQFayrbBq02tAq4d5oN9Ib0AgB8oSAuRuQJZ9/EpslW9A5Zwz/a03cUBuPr857TxwQL5HojyIgHBA05EScalYb0DCXEGJFQFwQAAK05zBiW5AiqO8oO8/b0BQd/kxUTdwQJAcn3/BMnBAJpZKLjV5bUBOBTetb2ltQMAVmjUi9m9A2jXG875Qb0AtyaYB+BNwQMdGxaTkmnBAtbelH55WcECr71dcl9pwQGZpp+Yy0nBADo0ngli6cEB8qenEjzBxQBYrD3d6DnFAf0hkxLrHcUBShgVS3WJxQFIDci5K6XBAWXA/4KGycECm4DoQg0JwQA==",
          "dtype": "f8"
         }
        },
        {
         "fill": "tonexty",
         "fillcolor": "rgba(255,0,0,0.2)",
         "line": {
          "color": "rgba(0,0,0,0)"
         },
         "mode": "lines",
         "name": "std",
         "showlegend": false,
         "type": "scatter",
         "x": {
          "bdata": "gD4AAAB9AACAuwAAAPoAAIA4AQAAdwEAgLUBAAD0AQCAMgIAAHECAICvAgAA7gIAgCwDAABrAwCAqQMAAOgDAIAmBAAAZQQAgKMEAADiBACAIAUAAF8FAICdBQAA3AUAgBoGAABZBgCAlwYAANYGAIAUBwAAUwcAgJEHAADQBwCADggAAE0IAICLCAAAyggAgAgJAABHCQCAhQkAAMQJAIACCgAAQQoAgH8KAAC+CgCA/AoAADsLAIB5CwAAuAsAgPYLAAA1DACAcwwAALIMAIDwDAAALw0AgG0NAACsDQA=",
          "dtype": "i4"
         },
         "y": {
          "bdata": "vGw0vPjoYsBy9L/lc8ZXwJ16kg5K3GbAUiTVwPoTWMAh5XjLzzxOwIhagzf4WUvAKLs1UbhDScCrR8RXAlVawFD0Fjbzpk/A1nAj01aYdMB2RoBwCoVOQJaZcgYh0WxARUv51msVTcDFZ0UAts1TwICE30B7AAtAzXyRhe9RXUDKLeLixNJnQADTSMk+YeM/QOMr7r+rMMDtf+8uo7VbQAuDyCIUmWlAxsWgmBRmbUBixT2D+aNvQEiXdtvo521AbCiA7Z2zbUA2rkvIrjleQIynJLVPCWNAJpSLTLfQZ0Afrd2JhFFoQIVSdEWr8mtAbfQYs4lPbkBffHC8WOBoQBJKeCbB3mxA3veKIfU7Z0AmHnbiHtdpQMdlN6WQmWhA8bBssQiCa0B9Mzpi8/NrQEcsvUhNpmtArvXe68+mZECyzpdo+dFmQKU9M/gPAGpAJeeSzE0WaUDkqbm8txpqQM2lc07h8WxAqqYMXUazbUCCngcxcCpvQOZjtsbML29AjybotHqNbkBhrUIb/ilvQBjbxHQxt29AJOZ9uz1fcEBeFO+kd/xvQHfLvrVhnm1AschNff5lbkBURLZHbYtsQA==",
          "dtype": "f8"
         }
        },
        {
         "fill": "tonexty",
         "fillcolor": "rgba(255,0,0,0.2)",
         "line": {
          "color": "rgba(0,0,0,0)"
         },
         "mode": "lines",
         "name": "std",
         "type": "scatter",
         "x": {
          "bdata": "gD4AAAB9AACAuwAAAPoAAIA4AQAAdwEAgLUBAAD0AQCAMgIAAHECAICvAgAA7gIAgCwDAABrAwCAqQMAAOgDAIAmBAAAZQQAgKMEAADiBACAIAUAAF8FAICdBQAA3AUAgBoGAABZBgCAlwYAANYGAIAUBwAAUwcAgJEHAADQBwCADggAAE0IAICLCAAAyggAgAgJAABHCQCAhQkAAMQJAIACCgAAQQoAgH8KAAC+CgCA/AoAADsLAIB5CwAAuAsAgPYLAAA1DACAcwwAALIMAIDwDAAALw0AgG0NAACsDQA=",
          "dtype": "i4"
         },
         "y": {
          "bdata": "ZxWLKHG8QMDR7NGuYzdKwDP4pCgoMk/AqWwA/+DeSsAqmVWnahQ3wAgAKQycryLAXO+suea3EMBywSC+GVpLwD58SlBHJ0ZACDmzCygiPcBbTsMCvfpwQHeo1p7IiXBAsnkGB5mXYEBW6pA9UZpHQMpL9kcnc3FA+F49D549ckDG+dPFTqhxQDqqC5teIW1A0uk6ktacbECHEPekmlNwQPoLKArjq3FAXRvV+RqVcUA9ETCWYmNyQGonfTtKrXFAt8lf+GYDcUCYuTJwrX1yQJBeG9bCTnJAmL0z+oNgc0CQMNvNP7tyQFNUQqgWnHFAk7/aIJdHc0CsPkYVrgl0QHNqCOavkXJA5BVN4K66c0BxqkehmxZzQB1XN0r5PHJAEUsGSOt+cUDh1NWyqHRyQPyi31pcknJATxtbOM0lc0D1Hev4cgByQO52gDka9nJASMJ8DZjFckBovfAklBpzQKe6UKLYvHJAFRzFEJnTcUAVECyg9h9yQNmg82l/DHJA1QbbqfMtckBI/DF8IMxyQKDouzNcQXJA2qpKzTcwc0B1gpPRfsdyQOigBIJjA3NAWvzXgUQyckAin5p8Tz9yQA==",
          "dtype": "f8"
         }
        }
       ],
       "layout": {
        "autosize": false,
        "height": 500,
        "template": {
         "data": {
          "bar": [
           {
            "error_x": {
             "color": "#2a3f5f"
            },
            "error_y": {
             "color": "#2a3f5f"
            },
            "marker": {
             "line": {
              "color": "#E5ECF6",
              "width": 0.5
             },
             "pattern": {
              "fillmode": "overlay",
              "size": 10,
              "solidity": 0.2
             }
            },
            "type": "bar"
           }
          ],
          "barpolar": [
           {
            "marker": {
             "line": {
              "color": "#E5ECF6",
              "width": 0.5
             },
             "pattern": {
              "fillmode": "overlay",
              "size": 10,
              "solidity": 0.2
             }
            },
            "type": "barpolar"
           }
          ],
          "carpet": [
           {
            "aaxis": {
             "endlinecolor": "#2a3f5f",
             "gridcolor": "white",
             "linecolor": "white",
             "minorgridcolor": "white",
             "startlinecolor": "#2a3f5f"
            },
            "baxis": {
             "endlinecolor": "#2a3f5f",
             "gridcolor": "white",
             "linecolor": "white",
             "minorgridcolor": "white",
             "startlinecolor": "#2a3f5f"
            },
            "type": "carpet"
           }
          ],
          "choropleth": [
           {
            "colorbar": {
             "outlinewidth": 0,
             "ticks": ""
            },
            "type": "choropleth"
           }
          ],
          "contour": [
           {
            "colorbar": {
             "outlinewidth": 0,
             "ticks": ""
            },
            "colorscale": [
             [
              0,
              "#0d0887"
             ],
             [
              0.1111111111111111,
              "#46039f"
             ],
             [
              0.2222222222222222,
              "#7201a8"
             ],
             [
              0.3333333333333333,
              "#9c179e"
             ],
             [
              0.4444444444444444,
              "#bd3786"
             ],
             [
              0.5555555555555556,
              "#d8576b"
             ],
             [
              0.6666666666666666,
              "#ed7953"
             ],
             [
              0.7777777777777778,
              "#fb9f3a"
             ],
             [
              0.8888888888888888,
              "#fdca26"
             ],
             [
              1,
              "#f0f921"
             ]
            ],
            "type": "contour"
           }
          ],
          "contourcarpet": [
           {
            "colorbar": {
             "outlinewidth": 0,
             "ticks": ""
            },
            "type": "contourcarpet"
           }
          ],
          "heatmap": [
           {
            "colorbar": {
             "outlinewidth": 0,
             "ticks": ""
            },
            "colorscale": [
             [
              0,
              "#0d0887"
             ],
             [
              0.1111111111111111,
              "#46039f"
             ],
             [
              0.2222222222222222,
              "#7201a8"
             ],
             [
              0.3333333333333333,
              "#9c179e"
             ],
             [
              0.4444444444444444,
              "#bd3786"
             ],
             [
              0.5555555555555556,
              "#d8576b"
             ],
             [
              0.6666666666666666,
              "#ed7953"
             ],
             [
              0.7777777777777778,
              "#fb9f3a"
             ],
             [
              0.8888888888888888,
              "#fdca26"
             ],
             [
              1,
              "#f0f921"
             ]
            ],
            "type": "heatmap"
           }
          ],
          "histogram": [
           {
            "marker": {
             "pattern": {
              "fillmode": "overlay",
              "size": 10,
              "solidity": 0.2
             }
            },
            "type": "histogram"
           }
          ],
          "histogram2d": [
           {
            "colorbar": {
             "outlinewidth": 0,
             "ticks": ""
            },
            "colorscale": [
             [
              0,
              "#0d0887"
             ],
             [
              0.1111111111111111,
              "#46039f"
             ],
             [
              0.2222222222222222,
              "#7201a8"
             ],
             [
              0.3333333333333333,
              "#9c179e"
             ],
             [
              0.4444444444444444,
              "#bd3786"
             ],
             [
              0.5555555555555556,
              "#d8576b"
             ],
             [
              0.6666666666666666,
              "#ed7953"
             ],
             [
              0.7777777777777778,
              "#fb9f3a"
             ],
             [
              0.8888888888888888,
              "#fdca26"
             ],
             [
              1,
              "#f0f921"
             ]
            ],
            "type": "histogram2d"
           }
          ],
          "histogram2dcontour": [
           {
            "colorbar": {
             "outlinewidth": 0,
             "ticks": ""
            },
            "colorscale": [
             [
              0,
              "#0d0887"
             ],
             [
              0.1111111111111111,
              "#46039f"
             ],
             [
              0.2222222222222222,
              "#7201a8"
             ],
             [
              0.3333333333333333,
              "#9c179e"
             ],
             [
              0.4444444444444444,
              "#bd3786"
             ],
             [
              0.5555555555555556,
              "#d8576b"
             ],
             [
              0.6666666666666666,
              "#ed7953"
             ],
             [
              0.7777777777777778,
              "#fb9f3a"
             ],
             [
              0.8888888888888888,
              "#fdca26"
             ],
             [
              1,
              "#f0f921"
             ]
            ],
            "type": "histogram2dcontour"
           }
          ],
          "mesh3d": [
           {
            "colorbar": {
             "outlinewidth": 0,
             "ticks": ""
            },
            "type": "mesh3d"
           }
          ],
          "parcoords": [
           {
            "line": {
             "colorbar": {
              "outlinewidth": 0,
              "ticks": ""
             }
            },
            "type": "parcoords"
           }
          ],
          "pie": [
           {
            "automargin": true,
            "type": "pie"
           }
          ],
          "scatter": [
           {
            "fillpattern": {
             "fillmode": "overlay",
             "size": 10,
             "solidity": 0.2
            },
            "type": "scatter"
           }
          ],
          "scatter3d": [
           {
            "line": {
             "colorbar": {
              "outlinewidth": 0,
              "ticks": ""
             }
            },
            "marker": {
             "colorbar": {
              "outlinewidth": 0,
              "ticks": ""
             }
            },
            "type": "scatter3d"
           }
          ],
          "scattercarpet": [
           {
            "marker": {
             "colorbar": {
              "outlinewidth": 0,
              "ticks": ""
             }
            },
            "type": "scattercarpet"
           }
          ],
          "scattergeo": [
           {
            "marker": {
             "colorbar": {
              "outlinewidth": 0,
              "ticks": ""
             }
            },
            "type": "scattergeo"
           }
          ],
          "scattergl": [
           {
            "marker": {
             "colorbar": {
              "outlinewidth": 0,
              "ticks": ""
             }
            },
            "type": "scattergl"
           }
          ],
          "scattermap": [
           {
            "marker": {
             "colorbar": {
              "outlinewidth": 0,
              "ticks": ""
             }
            },
            "type": "scattermap"
           }
          ],
          "scattermapbox": [
           {
            "marker": {
             "colorbar": {
              "outlinewidth": 0,
              "ticks": ""
             }
            },
            "type": "scattermapbox"
           }
          ],
          "scatterpolar": [
           {
            "marker": {
             "colorbar": {
              "outlinewidth": 0,
              "ticks": ""
             }
            },
            "type": "scatterpolar"
           }
          ],
          "scatterpolargl": [
           {
            "marker": {
             "colorbar": {
              "outlinewidth": 0,
              "ticks": ""
             }
            },
            "type": "scatterpolargl"
           }
          ],
          "scatterternary": [
           {
            "marker": {
             "colorbar": {
              "outlinewidth": 0,
              "ticks": ""
             }
            },
            "type": "scatterternary"
           }
          ],
          "surface": [
           {
            "colorbar": {
             "outlinewidth": 0,
             "ticks": ""
            },
            "colorscale": [
             [
              0,
              "#0d0887"
             ],
             [
              0.1111111111111111,
              "#46039f"
             ],
             [
              0.2222222222222222,
              "#7201a8"
             ],
             [
              0.3333333333333333,
              "#9c179e"
             ],
             [
              0.4444444444444444,
              "#bd3786"
             ],
             [
              0.5555555555555556,
              "#d8576b"
             ],
             [
              0.6666666666666666,
              "#ed7953"
             ],
             [
              0.7777777777777778,
              "#fb9f3a"
             ],
             [
              0.8888888888888888,
              "#fdca26"
             ],
             [
              1,
              "#f0f921"
             ]
            ],
            "type": "surface"
           }
          ],
          "table": [
           {
            "cells": {
             "fill": {
              "color": "#EBF0F8"
             },
             "line": {
              "color": "white"
             }
            },
            "header": {
             "fill": {
              "color": "#C8D4E3"
             },
             "line": {
              "color": "white"
             }
            },
            "type": "table"
           }
          ]
         },
         "layout": {
          "annotationdefaults": {
           "arrowcolor": "#2a3f5f",
           "arrowhead": 0,
           "arrowwidth": 1
          },
          "autotypenumbers": "strict",
          "coloraxis": {
           "colorbar": {
            "outlinewidth": 0,
            "ticks": ""
           }
          },
          "colorscale": {
           "diverging": [
            [
             0,
             "#8e0152"
            ],
            [
             0.1,
             "#c51b7d"
            ],
            [
             0.2,
             "#de77ae"
            ],
            [
             0.3,
             "#f1b6da"
            ],
            [
             0.4,
             "#fde0ef"
            ],
            [
             0.5,
             "#f7f7f7"
            ],
            [
             0.6,
             "#e6f5d0"
            ],
            [
             0.7,
             "#b8e186"
            ],
            [
             0.8,
             "#7fbc41"
            ],
            [
             0.9,
             "#4d9221"
            ],
            [
             1,
             "#276419"
            ]
           ],
           "sequential": [
            [
             0,
             "#0d0887"
            ],
            [
             0.1111111111111111,
             "#46039f"
            ],
            [
             0.2222222222222222,
             "#7201a8"
            ],
            [
             0.3333333333333333,
             "#9c179e"
            ],
            [
             0.4444444444444444,
             "#bd3786"
            ],
            [
             0.5555555555555556,
             "#d8576b"
            ],
            [
             0.6666666666666666,
             "#ed7953"
            ],
            [
             0.7777777777777778,
             "#fb9f3a"
            ],
            [
             0.8888888888888888,
             "#fdca26"
            ],
            [
             1,
             "#f0f921"
            ]
           ],
           "sequentialminus": [
            [
             0,
             "#0d0887"
            ],
            [
             0.1111111111111111,
             "#46039f"
            ],
            [
             0.2222222222222222,
             "#7201a8"
            ],
            [
             0.3333333333333333,
             "#9c179e"
            ],
            [
             0.4444444444444444,
             "#bd3786"
            ],
            [
             0.5555555555555556,
             "#d8576b"
            ],
            [
             0.6666666666666666,
             "#ed7953"
            ],
            [
             0.7777777777777778,
             "#fb9f3a"
            ],
            [
             0.8888888888888888,
             "#fdca26"
            ],
            [
             1,
             "#f0f921"
            ]
           ]
          },
          "colorway": [
           "#636efa",
           "#EF553B",
           "#00cc96",
           "#ab63fa",
           "#FFA15A",
           "#19d3f3",
           "#FF6692",
           "#B6E880",
           "#FF97FF",
           "#FECB52"
          ],
          "font": {
           "color": "#2a3f5f"
          },
          "geo": {
           "bgcolor": "white",
           "lakecolor": "white",
           "landcolor": "#E5ECF6",
           "showlakes": true,
           "showland": true,
           "subunitcolor": "white"
          },
          "hoverlabel": {
           "align": "left"
          },
          "hovermode": "closest",
          "mapbox": {
           "style": "light"
          },
          "paper_bgcolor": "white",
          "plot_bgcolor": "#E5ECF6",
          "polar": {
           "angularaxis": {
            "gridcolor": "white",
            "linecolor": "white",
            "ticks": ""
           },
           "bgcolor": "#E5ECF6",
           "radialaxis": {
            "gridcolor": "white",
            "linecolor": "white",
            "ticks": ""
           }
          },
          "scene": {
           "xaxis": {
            "backgroundcolor": "#E5ECF6",
            "gridcolor": "white",
            "gridwidth": 2,
            "linecolor": "white",
            "showbackground": true,
            "ticks": "",
            "zerolinecolor": "white"
           },
           "yaxis": {
            "backgroundcolor": "#E5ECF6",
            "gridcolor": "white",
            "gridwidth": 2,
            "linecolor": "white",
            "showbackground": true,
            "ticks": "",
            "zerolinecolor": "white"
           },
           "zaxis": {
            "backgroundcolor": "#E5ECF6",
            "gridcolor": "white",
            "gridwidth": 2,
            "linecolor": "white",
            "showbackground": true,
            "ticks": "",
            "zerolinecolor": "white"
           }
          },
          "shapedefaults": {
           "line": {
            "color": "#2a3f5f"
           }
          },
          "ternary": {
           "aaxis": {
            "gridcolor": "white",
            "linecolor": "white",
            "ticks": ""
           },
           "baxis": {
            "gridcolor": "white",
            "linecolor": "white",
            "ticks": ""
           },
           "bgcolor": "#E5ECF6",
           "caxis": {
            "gridcolor": "white",
            "linecolor": "white",
            "ticks": ""
           }
          },
          "title": {
           "x": 0.05
          },
          "xaxis": {
           "automargin": true,
           "gridcolor": "white",
           "linecolor": "white",
           "ticks": "",
           "title": {
            "standoff": 15
           },
           "zerolinecolor": "white",
           "zerolinewidth": 2
          },
          "yaxis": {
           "automargin": true,
           "gridcolor": "white",
           "linecolor": "white",
           "ticks": "",
           "title": {
            "standoff": 15
           },
           "zerolinecolor": "white",
           "zerolinewidth": 2
          }
         }
        },
        "title": {
         "subtitle": {
          "text": "Evaluation under training"
         },
         "text": "DQN on LunarLander-v3"
        },
        "width": 1000,
        "xaxis": {
         "title": {
          "text": "timesteps"
         }
        },
        "yaxis": {
         "title": {
          "text": "rewards"
         }
        }
       }
      }
     },
     "metadata": {},
     "output_type": "display_data"
    }
   ],
   "source": [
    "fig = go.Figure()\n",
    "fig.add_scatter(x=timesteps, y=mean_rewards, name='Mean rewards', mode='lines')\n",
    "fig.add_scatter(x=timesteps, y=mean_rewards - std_rewards, fill='tonexty', mode='lines', line=dict(color='rgba(0,0,0,0)'),\n",
    "                         fillcolor='rgba(255,0,0,0.2)', showlegend=False, name='std')\n",
    "fig.add_scatter(x=timesteps, y=mean_rewards + std_rewards, fill='tonexty', mode='lines', line=dict(color='rgba(0,0,0,0)'),\n",
    "                         fillcolor='rgba(255,0,0,0.2)', name='std')\n",
    "fig.update_layout(title_text='DQN on LunarLander-v3', title_subtitle_text='Evaluation under training', \n",
    "                  xaxis=dict(title=dict(text='timesteps')), yaxis=dict(title=dict(text='rewards')),\n",
    "                  autosize=False, width=1000, height=500)\n",
    "fig.show()"
   ]
  },
  {
   "cell_type": "markdown",
   "id": "1f0c9261",
   "metadata": {},
   "source": [
    "[plot](plots/dqn_train.png)"
   ]
  },
  {
   "cell_type": "markdown",
   "id": "9ad6ea95",
   "metadata": {},
   "source": [
    "Man kan se att i slutet av träningen börjar DQN prestera en aning sämre. Detta kan delvis bero på slumpen, då startförhållandena i LunarLander är delvis slumpmässiga, men också vara ett tecken på överträning. Dryga 800t timesteps kunde möjligen ha räckt."
   ]
  },
  {
   "cell_type": "markdown",
   "id": "31c7a536",
   "metadata": {},
   "source": [
    "DQN behövde mindre träning än PPO för att nå liknande resultat under träningen och producera en modell som lyckades i miljön under testning. \n",
    "\n",
    "I början av träningen lyckas PPO få värre poäng än DQN, detta kan bero på att PPO börjar inlärningnen genast utan någon typ av uppfattning av miljön (dvs. utför slumpmässiga handlingar) medans DQN har haft en chans att observera miljön (`learning_starts=100`) och har lite uppfattning om miljön och kan då utföra en aning bättre handlingar. Detta var något som hände konsekvent i träning av modellerna.\n",
    "\n",
    "DQN tycks vara lite ostabilare under träningen, och har lite högre varians i resultaten den når."
   ]
  },
  {
   "cell_type": "markdown",
   "id": "92636395",
   "metadata": {},
   "source": [
    "#### Testing"
   ]
  },
  {
   "cell_type": "markdown",
   "id": "2d26a5f1",
   "metadata": {},
   "source": [
    ">Testning i slumpmässigt prodcerade miljöer"
   ]
  },
  {
   "cell_type": "code",
   "execution_count": 76,
   "id": "f33745de",
   "metadata": {},
   "outputs": [],
   "source": [
    "env = gym.make('LunarLander-v3')"
   ]
  },
  {
   "cell_type": "code",
   "execution_count": 77,
   "id": "6e618794",
   "metadata": {},
   "outputs": [],
   "source": [
    "dqn_best = DQN.load('models/dqn_best/best_model.zip')"
   ]
  },
  {
   "cell_type": "code",
   "execution_count": 78,
   "id": "8d13a7d0",
   "metadata": {},
   "outputs": [
    {
     "name": "stdout",
     "output_type": "stream",
     "text": [
      "*** Episode 0 ***\n",
      "Steps taken: 254,   reward: 283.9438358168338\n",
      "*** Episode 1 ***\n",
      "Steps taken: 252,   reward: 261.7468444378556\n",
      "*** Episode 2 ***\n",
      "Steps taken: 292,   reward: 248.9280270021495\n",
      "*** Episode 3 ***\n",
      "Steps taken: 295,   reward: 260.81622538659155\n",
      "*** Episode 4 ***\n",
      "Steps taken: 262,   reward: 299.54232781889243\n",
      "*** Episode 5 ***\n",
      "Steps taken: 324,   reward: 261.8976829201047\n",
      "*** Episode 6 ***\n",
      "Steps taken: 203,   reward: 312.49710891156735\n",
      "*** Episode 7 ***\n",
      "Steps taken: 340,   reward: 230.01567993404296\n",
      "*** Episode 8 ***\n",
      "Steps taken: 309,   reward: 253.2566614703841\n",
      "*** Episode 9 ***\n",
      "Steps taken: 214,   reward: 254.33908961454677\n",
      "*** Episode 10 ***\n",
      "Steps taken: 216,   reward: 277.9815746181656\n",
      "*** Episode 11 ***\n",
      "Steps taken: 261,   reward: 289.89547698454624\n",
      "*** Episode 12 ***\n",
      "Steps taken: 225,   reward: 271.10750797952915\n",
      "*** Episode 13 ***\n",
      "Steps taken: 268,   reward: 241.60447337245319\n",
      "*** Episode 14 ***\n",
      "Steps taken: 352,   reward: 259.46385329126247\n",
      "*** Episode 15 ***\n",
      "Steps taken: 185,   reward: 287.3932411729155\n",
      "*** Episode 16 ***\n",
      "Steps taken: 198,   reward: 258.2160711921874\n",
      "*** Episode 17 ***\n",
      "Steps taken: 186,   reward: 290.7651642200854\n",
      "*** Episode 18 ***\n",
      "Steps taken: 297,   reward: 234.21990085162275\n",
      "*** Episode 19 ***\n",
      "Steps taken: 214,   reward: 284.07137096432183\n",
      "*** Episode 20 ***\n",
      "Steps taken: 368,   reward: 224.21656517056377\n",
      "*** Episode 21 ***\n",
      "Steps taken: 215,   reward: 263.7305220913275\n",
      "*** Episode 22 ***\n",
      "Steps taken: 219,   reward: 254.5439733845201\n",
      "*** Episode 23 ***\n",
      "Steps taken: 250,   reward: 258.5419539956553\n",
      "*** Episode 24 ***\n",
      "Steps taken: 235,   reward: 269.5409470920531\n",
      "*** Episode 25 ***\n",
      "Steps taken: 253,   reward: 275.2388801139226\n",
      "*** Episode 26 ***\n",
      "Steps taken: 212,   reward: 309.14342623066585\n",
      "*** Episode 27 ***\n",
      "Steps taken: 234,   reward: 290.108668120072\n",
      "*** Episode 28 ***\n",
      "Steps taken: 256,   reward: 278.0905216871532\n",
      "*** Episode 29 ***\n",
      "Steps taken: 250,   reward: 256.4858036872346\n",
      "*** Episode 30 ***\n",
      "Steps taken: 233,   reward: 241.82037452770692\n",
      "*** Episode 31 ***\n",
      "Steps taken: 273,   reward: 273.6171187934325\n",
      "*** Episode 32 ***\n",
      "Steps taken: 232,   reward: 292.8922939899468\n",
      "*** Episode 33 ***\n",
      "Steps taken: 256,   reward: 286.4480831355857\n",
      "*** Episode 34 ***\n",
      "Steps taken: 238,   reward: 260.32057046672264\n",
      "*** Episode 35 ***\n",
      "Steps taken: 269,   reward: 281.20001075514085\n",
      "*** Episode 36 ***\n",
      "Steps taken: 237,   reward: 292.72154642075805\n",
      "*** Episode 37 ***\n",
      "Steps taken: 218,   reward: 299.8710894657966\n",
      "*** Episode 38 ***\n",
      "Steps taken: 212,   reward: 258.33239438489\n",
      "*** Episode 39 ***\n",
      "Steps taken: 276,   reward: 262.88713392910836\n",
      "*** Episode 40 ***\n",
      "Steps taken: 221,   reward: 234.9758071370716\n",
      "*** Episode 41 ***\n",
      "Steps taken: 267,   reward: 293.27263302884023\n",
      "*** Episode 42 ***\n",
      "Steps taken: 231,   reward: 250.6860500416696\n",
      "*** Episode 43 ***\n",
      "Steps taken: 268,   reward: 287.53979151684246\n",
      "*** Episode 44 ***\n",
      "Steps taken: 240,   reward: 279.55454043093397\n",
      "*** Episode 45 ***\n",
      "Steps taken: 279,   reward: 247.79559986744079\n",
      "*** Episode 46 ***\n",
      "Steps taken: 240,   reward: 313.7594366060627\n",
      "*** Episode 47 ***\n",
      "Steps taken: 235,   reward: 294.70075189778146\n",
      "*** Episode 48 ***\n",
      "Steps taken: 237,   reward: 240.90386627788382\n",
      "*** Episode 49 ***\n",
      "Steps taken: 245,   reward: 282.7363774481003\n"
     ]
    }
   ],
   "source": [
    "rewards_dqn = []\n",
    "for i in range(50):\n",
    "    print(f\"*** Episode {i} ***\")\n",
    "\n",
    "    done = False\n",
    "    steps = 0\n",
    "    episode_r = 0\n",
    "    state, _ = env.reset()\n",
    "\n",
    "    while not done:\n",
    "      action, _ = dqn_best.predict(state, deterministic=True)\n",
    "      state, reward, done, truncated, info = env.step(action)\n",
    "      episode_r += reward\n",
    "      steps += 1\n",
    "\n",
    "      if truncated:\n",
    "        break\n",
    "    \n",
    "    rewards_dqn.append(episode_r)\n",
    "    print(f\"Steps taken: {steps},   reward: {episode_r}\")"
   ]
  },
  {
   "cell_type": "code",
   "execution_count": 15,
   "id": "46362b33",
   "metadata": {},
   "outputs": [],
   "source": [
    "ppo_best = PPO.load('models/ppo_best/best_model.zip')"
   ]
  },
  {
   "cell_type": "code",
   "execution_count": 16,
   "id": "685e35ca",
   "metadata": {},
   "outputs": [
    {
     "name": "stdout",
     "output_type": "stream",
     "text": [
      "*** Episode 0 ***\n",
      "Steps taken: 274,   reward: 272.43008999292186\n",
      "*** Episode 1 ***\n",
      "Steps taken: 298,   reward: 270.29975095497986\n",
      "*** Episode 2 ***\n",
      "Steps taken: 293,   reward: 272.21245579125554\n",
      "*** Episode 3 ***\n",
      "Steps taken: 314,   reward: 274.23299708667173\n",
      "*** Episode 4 ***\n",
      "Steps taken: 270,   reward: 301.0063870260986\n",
      "*** Episode 5 ***\n",
      "Steps taken: 301,   reward: 257.6782458816821\n",
      "*** Episode 6 ***\n",
      "Steps taken: 295,   reward: 282.61092958206143\n",
      "*** Episode 7 ***\n",
      "Steps taken: 288,   reward: 299.0227112542998\n",
      "*** Episode 8 ***\n",
      "Steps taken: 289,   reward: 218.2805788696512\n",
      "*** Episode 9 ***\n",
      "Steps taken: 290,   reward: 266.2225814988759\n",
      "*** Episode 10 ***\n",
      "Steps taken: 293,   reward: 279.3627294019717\n",
      "*** Episode 11 ***\n",
      "Steps taken: 285,   reward: 270.4340480017354\n",
      "*** Episode 12 ***\n",
      "Steps taken: 291,   reward: 239.65251081196962\n",
      "*** Episode 13 ***\n",
      "Steps taken: 299,   reward: 298.7963771423192\n",
      "*** Episode 14 ***\n",
      "Steps taken: 254,   reward: 295.413971615735\n",
      "*** Episode 15 ***\n",
      "Steps taken: 300,   reward: 308.0584569889464\n",
      "*** Episode 16 ***\n",
      "Steps taken: 319,   reward: 266.2173640623549\n",
      "*** Episode 17 ***\n",
      "Steps taken: 284,   reward: 219.15055925077456\n",
      "*** Episode 18 ***\n",
      "Steps taken: 286,   reward: 259.91981474481923\n",
      "*** Episode 19 ***\n",
      "Steps taken: 315,   reward: 255.70498954916832\n",
      "*** Episode 20 ***\n",
      "Steps taken: 275,   reward: 294.4661923874979\n",
      "*** Episode 21 ***\n",
      "Steps taken: 310,   reward: 271.70692602037496\n",
      "*** Episode 22 ***\n",
      "Steps taken: 292,   reward: 246.311134356289\n",
      "*** Episode 23 ***\n",
      "Steps taken: 307,   reward: 266.0362453691764\n",
      "*** Episode 24 ***\n",
      "Steps taken: 308,   reward: 267.7627099882475\n",
      "*** Episode 25 ***\n",
      "Steps taken: 262,   reward: 296.69477304899465\n",
      "*** Episode 26 ***\n",
      "Steps taken: 295,   reward: 240.38294142042875\n",
      "*** Episode 27 ***\n",
      "Steps taken: 320,   reward: 241.26484978801622\n",
      "*** Episode 28 ***\n",
      "Steps taken: 297,   reward: 279.2280523845\n",
      "*** Episode 29 ***\n",
      "Steps taken: 291,   reward: 242.00255067196534\n",
      "*** Episode 30 ***\n",
      "Steps taken: 284,   reward: 266.2451990019557\n",
      "*** Episode 31 ***\n",
      "Steps taken: 254,   reward: 279.5363245544502\n",
      "*** Episode 32 ***\n",
      "Steps taken: 320,   reward: 291.76335637138044\n",
      "*** Episode 33 ***\n",
      "Steps taken: 301,   reward: 264.86435076974686\n",
      "*** Episode 34 ***\n",
      "Steps taken: 285,   reward: 248.39778133268584\n",
      "*** Episode 35 ***\n",
      "Steps taken: 267,   reward: 269.48481627789045\n",
      "*** Episode 36 ***\n",
      "Steps taken: 312,   reward: 275.94908225877424\n",
      "*** Episode 37 ***\n",
      "Steps taken: 280,   reward: 252.71801186194796\n",
      "*** Episode 38 ***\n",
      "Steps taken: 296,   reward: 249.70485293981696\n",
      "*** Episode 39 ***\n",
      "Steps taken: 278,   reward: 241.25715095997253\n",
      "*** Episode 40 ***\n",
      "Steps taken: 294,   reward: 240.86312091776483\n",
      "*** Episode 41 ***\n",
      "Steps taken: 320,   reward: 273.0244667479608\n",
      "*** Episode 42 ***\n",
      "Steps taken: 297,   reward: 256.2818975552425\n",
      "*** Episode 43 ***\n",
      "Steps taken: 307,   reward: 256.46196076007584\n",
      "*** Episode 44 ***\n",
      "Steps taken: 303,   reward: 281.97648706877783\n",
      "*** Episode 45 ***\n",
      "Steps taken: 339,   reward: 306.0155526150241\n",
      "*** Episode 46 ***\n",
      "Steps taken: 274,   reward: 261.42278161741194\n",
      "*** Episode 47 ***\n",
      "Steps taken: 290,   reward: 267.1986247162407\n",
      "*** Episode 48 ***\n",
      "Steps taken: 305,   reward: 306.9906442870471\n",
      "*** Episode 49 ***\n",
      "Steps taken: 260,   reward: 265.105025755783\n"
     ]
    }
   ],
   "source": [
    "rewards_ppo = []\n",
    "for i in range(50):\n",
    "    print(f\"*** Episode {i} ***\")\n",
    "\n",
    "    done = False\n",
    "    steps = 0\n",
    "    episode_r = 0\n",
    "    state, _ = env.reset()\n",
    "\n",
    "    while not done:\n",
    "      action, _ = ppo_best.predict(state, deterministic=True)\n",
    "      state, reward, done, truncated, info = env.step(action)\n",
    "      episode_r += reward\n",
    "      steps += 1\n",
    "\n",
    "      if truncated:\n",
    "        break\n",
    "\n",
    "    rewards_ppo.append(episode_r)\n",
    "    print(f\"Steps taken: {steps},   reward: {episode_r}\")"
   ]
  },
  {
   "cell_type": "markdown",
   "id": "fd976f0f",
   "metadata": {},
   "source": [
    ">Policy evaluering"
   ]
  },
  {
   "cell_type": "code",
   "execution_count": 27,
   "id": "ab70c3fe",
   "metadata": {},
   "outputs": [
    {
     "name": "stdout",
     "output_type": "stream",
     "text": [
      "Mean reward: 264.378148372929, std dev: 18.4117\n"
     ]
    }
   ],
   "source": [
    "mean_reward, std_dev = evaluate_policy(ppo_best, env, n_eval_episodes=20)\n",
    "print(f\"Mean reward: {mean_reward}, std dev: {std_dev:.4f}\")"
   ]
  },
  {
   "cell_type": "code",
   "execution_count": 120,
   "id": "525bf176",
   "metadata": {},
   "outputs": [
    {
     "name": "stdout",
     "output_type": "stream",
     "text": [
      "Mean reward: 285.4689241308515, std dev: 18.7179\n"
     ]
    }
   ],
   "source": [
    "mean_reward, std_dev = evaluate_policy(dqn_best, env, n_eval_episodes=20)\n",
    "print(f\"Mean reward: {mean_reward}, std dev: {std_dev:.4f}\")"
   ]
  },
  {
   "cell_type": "code",
   "execution_count": null,
   "id": "1d53ca08",
   "metadata": {},
   "outputs": [
    {
     "data": {
      "application/vnd.plotly.v1+json": {
       "config": {
        "plotlyServerURL": "https://plot.ly"
       },
       "data": [
        {
         "mode": "lines",
         "name": "PPO",
         "type": "scatter",
         "x": [
          1,
          2,
          3,
          4,
          5,
          6,
          7,
          8,
          9,
          10,
          11,
          12,
          13,
          14,
          15,
          16,
          17,
          18,
          19,
          20,
          21,
          22,
          23,
          24,
          25,
          26,
          27,
          28,
          29,
          30,
          31,
          32,
          33,
          34,
          35,
          36,
          37,
          38,
          39,
          40,
          41,
          42,
          43,
          44,
          45,
          46,
          47,
          48,
          49
         ],
         "y": [
          272.43008999292186,
          270.29975095497986,
          272.21245579125554,
          274.23299708667173,
          301.0063870260986,
          257.6782458816821,
          282.61092958206143,
          299.0227112542998,
          218.2805788696512,
          266.2225814988759,
          279.3627294019717,
          270.4340480017354,
          239.65251081196962,
          298.7963771423192,
          295.413971615735,
          308.0584569889464,
          266.2173640623549,
          219.15055925077456,
          259.91981474481923,
          255.70498954916832,
          294.4661923874979,
          271.70692602037496,
          246.311134356289,
          266.0362453691764,
          267.7627099882475,
          296.69477304899465,
          240.38294142042875,
          241.26484978801622,
          279.2280523845,
          242.00255067196534,
          266.2451990019557,
          279.5363245544502,
          291.76335637138044,
          264.86435076974686,
          248.39778133268584,
          269.48481627789045,
          275.94908225877424,
          252.71801186194796,
          249.70485293981696,
          241.25715095997253,
          240.86312091776483,
          273.0244667479608,
          256.2818975552425,
          256.46196076007584,
          281.97648706877783,
          306.0155526150241,
          261.42278161741194,
          267.1986247162407,
          306.9906442870471,
          265.105025755783
         ]
        },
        {
         "mode": "lines",
         "name": "DQN",
         "type": "scatter",
         "x": [
          1,
          2,
          3,
          4,
          5,
          6,
          7,
          8,
          9,
          10,
          11,
          12,
          13,
          14,
          15,
          16,
          17,
          18,
          19,
          20,
          21,
          22,
          23,
          24,
          25,
          26,
          27,
          28,
          29,
          30,
          31,
          32,
          33,
          34,
          35,
          36,
          37,
          38,
          39,
          40,
          41,
          42,
          43,
          44,
          45,
          46,
          47,
          48,
          49
         ],
         "y": [
          283.9438358168338,
          261.7468444378556,
          248.9280270021495,
          260.81622538659155,
          299.54232781889243,
          261.8976829201047,
          312.49710891156735,
          230.01567993404296,
          253.2566614703841,
          254.33908961454677,
          277.9815746181656,
          289.89547698454624,
          271.10750797952915,
          241.60447337245319,
          259.46385329126247,
          287.3932411729155,
          258.2160711921874,
          290.7651642200854,
          234.21990085162275,
          284.07137096432183,
          224.21656517056377,
          263.7305220913275,
          254.5439733845201,
          258.5419539956553,
          269.5409470920531,
          275.2388801139226,
          309.14342623066585,
          290.108668120072,
          278.0905216871532,
          256.4858036872346,
          241.82037452770692,
          273.6171187934325,
          292.8922939899468,
          286.4480831355857,
          260.32057046672264,
          281.20001075514085,
          292.72154642075805,
          299.8710894657966,
          258.33239438489,
          262.88713392910836,
          234.9758071370716,
          293.27263302884023,
          250.6860500416696,
          287.53979151684246,
          279.55454043093397,
          247.79559986744079,
          313.7594366060627,
          294.70075189778146,
          240.90386627788382,
          282.7363774481003
         ]
        }
       ],
       "layout": {
        "autosize": false,
        "height": 500,
        "template": {
         "data": {
          "bar": [
           {
            "error_x": {
             "color": "#2a3f5f"
            },
            "error_y": {
             "color": "#2a3f5f"
            },
            "marker": {
             "line": {
              "color": "#E5ECF6",
              "width": 0.5
             },
             "pattern": {
              "fillmode": "overlay",
              "size": 10,
              "solidity": 0.2
             }
            },
            "type": "bar"
           }
          ],
          "barpolar": [
           {
            "marker": {
             "line": {
              "color": "#E5ECF6",
              "width": 0.5
             },
             "pattern": {
              "fillmode": "overlay",
              "size": 10,
              "solidity": 0.2
             }
            },
            "type": "barpolar"
           }
          ],
          "carpet": [
           {
            "aaxis": {
             "endlinecolor": "#2a3f5f",
             "gridcolor": "white",
             "linecolor": "white",
             "minorgridcolor": "white",
             "startlinecolor": "#2a3f5f"
            },
            "baxis": {
             "endlinecolor": "#2a3f5f",
             "gridcolor": "white",
             "linecolor": "white",
             "minorgridcolor": "white",
             "startlinecolor": "#2a3f5f"
            },
            "type": "carpet"
           }
          ],
          "choropleth": [
           {
            "colorbar": {
             "outlinewidth": 0,
             "ticks": ""
            },
            "type": "choropleth"
           }
          ],
          "contour": [
           {
            "colorbar": {
             "outlinewidth": 0,
             "ticks": ""
            },
            "colorscale": [
             [
              0,
              "#0d0887"
             ],
             [
              0.1111111111111111,
              "#46039f"
             ],
             [
              0.2222222222222222,
              "#7201a8"
             ],
             [
              0.3333333333333333,
              "#9c179e"
             ],
             [
              0.4444444444444444,
              "#bd3786"
             ],
             [
              0.5555555555555556,
              "#d8576b"
             ],
             [
              0.6666666666666666,
              "#ed7953"
             ],
             [
              0.7777777777777778,
              "#fb9f3a"
             ],
             [
              0.8888888888888888,
              "#fdca26"
             ],
             [
              1,
              "#f0f921"
             ]
            ],
            "type": "contour"
           }
          ],
          "contourcarpet": [
           {
            "colorbar": {
             "outlinewidth": 0,
             "ticks": ""
            },
            "type": "contourcarpet"
           }
          ],
          "heatmap": [
           {
            "colorbar": {
             "outlinewidth": 0,
             "ticks": ""
            },
            "colorscale": [
             [
              0,
              "#0d0887"
             ],
             [
              0.1111111111111111,
              "#46039f"
             ],
             [
              0.2222222222222222,
              "#7201a8"
             ],
             [
              0.3333333333333333,
              "#9c179e"
             ],
             [
              0.4444444444444444,
              "#bd3786"
             ],
             [
              0.5555555555555556,
              "#d8576b"
             ],
             [
              0.6666666666666666,
              "#ed7953"
             ],
             [
              0.7777777777777778,
              "#fb9f3a"
             ],
             [
              0.8888888888888888,
              "#fdca26"
             ],
             [
              1,
              "#f0f921"
             ]
            ],
            "type": "heatmap"
           }
          ],
          "histogram": [
           {
            "marker": {
             "pattern": {
              "fillmode": "overlay",
              "size": 10,
              "solidity": 0.2
             }
            },
            "type": "histogram"
           }
          ],
          "histogram2d": [
           {
            "colorbar": {
             "outlinewidth": 0,
             "ticks": ""
            },
            "colorscale": [
             [
              0,
              "#0d0887"
             ],
             [
              0.1111111111111111,
              "#46039f"
             ],
             [
              0.2222222222222222,
              "#7201a8"
             ],
             [
              0.3333333333333333,
              "#9c179e"
             ],
             [
              0.4444444444444444,
              "#bd3786"
             ],
             [
              0.5555555555555556,
              "#d8576b"
             ],
             [
              0.6666666666666666,
              "#ed7953"
             ],
             [
              0.7777777777777778,
              "#fb9f3a"
             ],
             [
              0.8888888888888888,
              "#fdca26"
             ],
             [
              1,
              "#f0f921"
             ]
            ],
            "type": "histogram2d"
           }
          ],
          "histogram2dcontour": [
           {
            "colorbar": {
             "outlinewidth": 0,
             "ticks": ""
            },
            "colorscale": [
             [
              0,
              "#0d0887"
             ],
             [
              0.1111111111111111,
              "#46039f"
             ],
             [
              0.2222222222222222,
              "#7201a8"
             ],
             [
              0.3333333333333333,
              "#9c179e"
             ],
             [
              0.4444444444444444,
              "#bd3786"
             ],
             [
              0.5555555555555556,
              "#d8576b"
             ],
             [
              0.6666666666666666,
              "#ed7953"
             ],
             [
              0.7777777777777778,
              "#fb9f3a"
             ],
             [
              0.8888888888888888,
              "#fdca26"
             ],
             [
              1,
              "#f0f921"
             ]
            ],
            "type": "histogram2dcontour"
           }
          ],
          "mesh3d": [
           {
            "colorbar": {
             "outlinewidth": 0,
             "ticks": ""
            },
            "type": "mesh3d"
           }
          ],
          "parcoords": [
           {
            "line": {
             "colorbar": {
              "outlinewidth": 0,
              "ticks": ""
             }
            },
            "type": "parcoords"
           }
          ],
          "pie": [
           {
            "automargin": true,
            "type": "pie"
           }
          ],
          "scatter": [
           {
            "fillpattern": {
             "fillmode": "overlay",
             "size": 10,
             "solidity": 0.2
            },
            "type": "scatter"
           }
          ],
          "scatter3d": [
           {
            "line": {
             "colorbar": {
              "outlinewidth": 0,
              "ticks": ""
             }
            },
            "marker": {
             "colorbar": {
              "outlinewidth": 0,
              "ticks": ""
             }
            },
            "type": "scatter3d"
           }
          ],
          "scattercarpet": [
           {
            "marker": {
             "colorbar": {
              "outlinewidth": 0,
              "ticks": ""
             }
            },
            "type": "scattercarpet"
           }
          ],
          "scattergeo": [
           {
            "marker": {
             "colorbar": {
              "outlinewidth": 0,
              "ticks": ""
             }
            },
            "type": "scattergeo"
           }
          ],
          "scattergl": [
           {
            "marker": {
             "colorbar": {
              "outlinewidth": 0,
              "ticks": ""
             }
            },
            "type": "scattergl"
           }
          ],
          "scattermap": [
           {
            "marker": {
             "colorbar": {
              "outlinewidth": 0,
              "ticks": ""
             }
            },
            "type": "scattermap"
           }
          ],
          "scattermapbox": [
           {
            "marker": {
             "colorbar": {
              "outlinewidth": 0,
              "ticks": ""
             }
            },
            "type": "scattermapbox"
           }
          ],
          "scatterpolar": [
           {
            "marker": {
             "colorbar": {
              "outlinewidth": 0,
              "ticks": ""
             }
            },
            "type": "scatterpolar"
           }
          ],
          "scatterpolargl": [
           {
            "marker": {
             "colorbar": {
              "outlinewidth": 0,
              "ticks": ""
             }
            },
            "type": "scatterpolargl"
           }
          ],
          "scatterternary": [
           {
            "marker": {
             "colorbar": {
              "outlinewidth": 0,
              "ticks": ""
             }
            },
            "type": "scatterternary"
           }
          ],
          "surface": [
           {
            "colorbar": {
             "outlinewidth": 0,
             "ticks": ""
            },
            "colorscale": [
             [
              0,
              "#0d0887"
             ],
             [
              0.1111111111111111,
              "#46039f"
             ],
             [
              0.2222222222222222,
              "#7201a8"
             ],
             [
              0.3333333333333333,
              "#9c179e"
             ],
             [
              0.4444444444444444,
              "#bd3786"
             ],
             [
              0.5555555555555556,
              "#d8576b"
             ],
             [
              0.6666666666666666,
              "#ed7953"
             ],
             [
              0.7777777777777778,
              "#fb9f3a"
             ],
             [
              0.8888888888888888,
              "#fdca26"
             ],
             [
              1,
              "#f0f921"
             ]
            ],
            "type": "surface"
           }
          ],
          "table": [
           {
            "cells": {
             "fill": {
              "color": "#EBF0F8"
             },
             "line": {
              "color": "white"
             }
            },
            "header": {
             "fill": {
              "color": "#C8D4E3"
             },
             "line": {
              "color": "white"
             }
            },
            "type": "table"
           }
          ]
         },
         "layout": {
          "annotationdefaults": {
           "arrowcolor": "#2a3f5f",
           "arrowhead": 0,
           "arrowwidth": 1
          },
          "autotypenumbers": "strict",
          "coloraxis": {
           "colorbar": {
            "outlinewidth": 0,
            "ticks": ""
           }
          },
          "colorscale": {
           "diverging": [
            [
             0,
             "#8e0152"
            ],
            [
             0.1,
             "#c51b7d"
            ],
            [
             0.2,
             "#de77ae"
            ],
            [
             0.3,
             "#f1b6da"
            ],
            [
             0.4,
             "#fde0ef"
            ],
            [
             0.5,
             "#f7f7f7"
            ],
            [
             0.6,
             "#e6f5d0"
            ],
            [
             0.7,
             "#b8e186"
            ],
            [
             0.8,
             "#7fbc41"
            ],
            [
             0.9,
             "#4d9221"
            ],
            [
             1,
             "#276419"
            ]
           ],
           "sequential": [
            [
             0,
             "#0d0887"
            ],
            [
             0.1111111111111111,
             "#46039f"
            ],
            [
             0.2222222222222222,
             "#7201a8"
            ],
            [
             0.3333333333333333,
             "#9c179e"
            ],
            [
             0.4444444444444444,
             "#bd3786"
            ],
            [
             0.5555555555555556,
             "#d8576b"
            ],
            [
             0.6666666666666666,
             "#ed7953"
            ],
            [
             0.7777777777777778,
             "#fb9f3a"
            ],
            [
             0.8888888888888888,
             "#fdca26"
            ],
            [
             1,
             "#f0f921"
            ]
           ],
           "sequentialminus": [
            [
             0,
             "#0d0887"
            ],
            [
             0.1111111111111111,
             "#46039f"
            ],
            [
             0.2222222222222222,
             "#7201a8"
            ],
            [
             0.3333333333333333,
             "#9c179e"
            ],
            [
             0.4444444444444444,
             "#bd3786"
            ],
            [
             0.5555555555555556,
             "#d8576b"
            ],
            [
             0.6666666666666666,
             "#ed7953"
            ],
            [
             0.7777777777777778,
             "#fb9f3a"
            ],
            [
             0.8888888888888888,
             "#fdca26"
            ],
            [
             1,
             "#f0f921"
            ]
           ]
          },
          "colorway": [
           "#636efa",
           "#EF553B",
           "#00cc96",
           "#ab63fa",
           "#FFA15A",
           "#19d3f3",
           "#FF6692",
           "#B6E880",
           "#FF97FF",
           "#FECB52"
          ],
          "font": {
           "color": "#2a3f5f"
          },
          "geo": {
           "bgcolor": "white",
           "lakecolor": "white",
           "landcolor": "#E5ECF6",
           "showlakes": true,
           "showland": true,
           "subunitcolor": "white"
          },
          "hoverlabel": {
           "align": "left"
          },
          "hovermode": "closest",
          "mapbox": {
           "style": "light"
          },
          "paper_bgcolor": "white",
          "plot_bgcolor": "#E5ECF6",
          "polar": {
           "angularaxis": {
            "gridcolor": "white",
            "linecolor": "white",
            "ticks": ""
           },
           "bgcolor": "#E5ECF6",
           "radialaxis": {
            "gridcolor": "white",
            "linecolor": "white",
            "ticks": ""
           }
          },
          "scene": {
           "xaxis": {
            "backgroundcolor": "#E5ECF6",
            "gridcolor": "white",
            "gridwidth": 2,
            "linecolor": "white",
            "showbackground": true,
            "ticks": "",
            "zerolinecolor": "white"
           },
           "yaxis": {
            "backgroundcolor": "#E5ECF6",
            "gridcolor": "white",
            "gridwidth": 2,
            "linecolor": "white",
            "showbackground": true,
            "ticks": "",
            "zerolinecolor": "white"
           },
           "zaxis": {
            "backgroundcolor": "#E5ECF6",
            "gridcolor": "white",
            "gridwidth": 2,
            "linecolor": "white",
            "showbackground": true,
            "ticks": "",
            "zerolinecolor": "white"
           }
          },
          "shapedefaults": {
           "line": {
            "color": "#2a3f5f"
           }
          },
          "ternary": {
           "aaxis": {
            "gridcolor": "white",
            "linecolor": "white",
            "ticks": ""
           },
           "baxis": {
            "gridcolor": "white",
            "linecolor": "white",
            "ticks": ""
           },
           "bgcolor": "#E5ECF6",
           "caxis": {
            "gridcolor": "white",
            "linecolor": "white",
            "ticks": ""
           }
          },
          "title": {
           "x": 0.05
          },
          "xaxis": {
           "automargin": true,
           "gridcolor": "white",
           "linecolor": "white",
           "ticks": "",
           "title": {
            "standoff": 15
           },
           "zerolinecolor": "white",
           "zerolinewidth": 2
          },
          "yaxis": {
           "automargin": true,
           "gridcolor": "white",
           "linecolor": "white",
           "ticks": "",
           "title": {
            "standoff": 15
           },
           "zerolinecolor": "white",
           "zerolinewidth": 2
          }
         }
        },
        "title": {
         "text": "PPO vs DQN"
        },
        "width": 1000,
        "xaxis": {
         "title": {
          "text": "episodes"
         }
        },
        "yaxis": {
         "title": {
          "text": "mean rewards"
         }
        }
       }
      }
     },
     "metadata": {},
     "output_type": "display_data"
    }
   ],
   "source": [
    "x = list(range(1,len(rewards_ppo)))\n",
    "fig = go.Figure()\n",
    "fig.add_scatter(x=x, y=rewards_ppo, name='PPO', mode='lines')\n",
    "fig.add_scatter(x=x, y=rewards_dqn, name='DQN', mode='lines')\n",
    "fig.update_layout(title_text='PPO vs DQN', xaxis=dict(title=dict(text='episodes')), \n",
    "                  yaxis=dict(title=dict(text='mean rewards')), autosize=False, width=1000, height=500)\n",
    "fig.show()"
   ]
  },
  {
   "cell_type": "markdown",
   "id": "20f5fa1a",
   "metadata": {},
   "source": [
    "[plot](plots/testing.png)"
   ]
  },
  {
   "cell_type": "markdown",
   "id": "3f55756c",
   "metadata": {},
   "source": [
    ">Testning med identiska miljöer (seed för att skapa samma startmiljö för båda)"
   ]
  },
  {
   "cell_type": "code",
   "execution_count": 122,
   "id": "809ac8c3",
   "metadata": {},
   "outputs": [],
   "source": [
    "rewards_dqn_eq = []\n",
    "rewards_ppo_eq = []\n",
    "\n",
    "steps_dqn_eq = []\n",
    "steps_ppo_eq = []\n",
    "for _ in range(20):\n",
    "    seed = np.random.randint(20,200)\n",
    "\n",
    "    done = False\n",
    "    steps = 0\n",
    "    episode_r = 0\n",
    "    env = gym.make(\"LunarLander-v3\")\n",
    "    state, _ = env.reset(seed=seed)\n",
    "\n",
    "    while not done:\n",
    "      action, _ = dqn_best.predict(state, deterministic=True)\n",
    "      state, reward, done, truncated, info = env.step(action)\n",
    "      episode_r += reward\n",
    "      steps += 1\n",
    "\n",
    "      if truncated:\n",
    "        break\n",
    "    \n",
    "    rewards_dqn_eq.append(episode_r)\n",
    "    steps_dqn_eq.append(steps)\n",
    "\n",
    "    done = False\n",
    "    steps = 0\n",
    "    episode_r = 0\n",
    "    env = gym.make(\"LunarLander-v3\")\n",
    "    state, _ = env.reset(seed=seed)\n",
    "\n",
    "    while not done:\n",
    "      action, _ = ppo_best.predict(state, deterministic=True)\n",
    "      state, reward, done, truncated, info = env.step(action)\n",
    "      episode_r += reward\n",
    "      steps += 1\n",
    "\n",
    "      if truncated:\n",
    "        break\n",
    "\n",
    "    rewards_ppo_eq.append(episode_r)\n",
    "    steps_ppo_eq.append(steps)"
   ]
  },
  {
   "cell_type": "code",
   "execution_count": 142,
   "id": "985fe65b",
   "metadata": {},
   "outputs": [
    {
     "data": {
      "application/vnd.plotly.v1+json": {
       "config": {
        "plotlyServerURL": "https://plot.ly"
       },
       "data": [
        {
         "mode": "lines",
         "name": "PPO rewards",
         "type": "scatter",
         "x": [
          1,
          2,
          3,
          4,
          5,
          6,
          7,
          8,
          9,
          10,
          11,
          12,
          13,
          14,
          15,
          16,
          17,
          18,
          19
         ],
         "xaxis": "x",
         "y": [
          299.44650297513715,
          297.1321446323329,
          297.00360398081745,
          307.0998977365621,
          274.0280232463892,
          277.4733685683897,
          263.6866116112646,
          272.9797165959461,
          275.545255707784,
          281.16869973892886,
          231.7769269689873,
          307.43104324710373,
          269.7919437571773,
          286.2364439809395,
          313.49776807364896,
          269.3499502484316,
          269.7919437571773,
          251.28361612482723,
          295.0784144736957,
          247.90224412207775
         ],
         "yaxis": "y"
        },
        {
         "mode": "lines",
         "name": "DQN rewards",
         "type": "scatter",
         "x": [
          1,
          2,
          3,
          4,
          5,
          6,
          7,
          8,
          9,
          10,
          11,
          12,
          13,
          14,
          15,
          16,
          17,
          18,
          19
         ],
         "xaxis": "x",
         "y": [
          304.501241071706,
          299.0108076278791,
          302.49879314363625,
          314.86066533115314,
          282.23570615205574,
          290.79227267842873,
          260.5532307856834,
          281.27142010213595,
          286.28633940885004,
          277.9872386041222,
          237.93589866786002,
          313.64347932008747,
          280.0971080350206,
          289.9764994708031,
          319.8018051105252,
          277.3880752560584,
          280.0971080350206,
          262.66560316605785,
          301.19059818387393,
          245.78894805463557
         ],
         "yaxis": "y"
        },
        {
         "mode": "lines",
         "name": "PPO steps",
         "type": "scatter",
         "x": [
          1,
          2,
          3,
          4,
          5,
          6,
          7,
          8,
          9,
          10,
          11,
          12,
          13,
          14,
          15,
          16,
          17,
          18,
          19
         ],
         "xaxis": "x2",
         "y": [
          256,
          278,
          283,
          273,
          324,
          303,
          300,
          311,
          303,
          349,
          302,
          297,
          307,
          306,
          290,
          285,
          307,
          320,
          276,
          292
         ],
         "yaxis": "y2"
        },
        {
         "mode": "lines",
         "name": "DQN steps",
         "type": "scatter",
         "x": [
          1,
          2,
          3,
          4,
          5,
          6,
          7,
          8,
          9,
          10,
          11,
          12,
          13,
          14,
          15,
          16,
          17,
          18,
          19
         ],
         "xaxis": "x2",
         "y": [
          198,
          210,
          237,
          232,
          253,
          213,
          281,
          250,
          237,
          331,
          254,
          251,
          249,
          264,
          201,
          252,
          249,
          223,
          198,
          287
         ],
         "yaxis": "y2"
        }
       ],
       "layout": {
        "autosize": false,
        "height": 600,
        "template": {
         "data": {
          "bar": [
           {
            "error_x": {
             "color": "#2a3f5f"
            },
            "error_y": {
             "color": "#2a3f5f"
            },
            "marker": {
             "line": {
              "color": "#E5ECF6",
              "width": 0.5
             },
             "pattern": {
              "fillmode": "overlay",
              "size": 10,
              "solidity": 0.2
             }
            },
            "type": "bar"
           }
          ],
          "barpolar": [
           {
            "marker": {
             "line": {
              "color": "#E5ECF6",
              "width": 0.5
             },
             "pattern": {
              "fillmode": "overlay",
              "size": 10,
              "solidity": 0.2
             }
            },
            "type": "barpolar"
           }
          ],
          "carpet": [
           {
            "aaxis": {
             "endlinecolor": "#2a3f5f",
             "gridcolor": "white",
             "linecolor": "white",
             "minorgridcolor": "white",
             "startlinecolor": "#2a3f5f"
            },
            "baxis": {
             "endlinecolor": "#2a3f5f",
             "gridcolor": "white",
             "linecolor": "white",
             "minorgridcolor": "white",
             "startlinecolor": "#2a3f5f"
            },
            "type": "carpet"
           }
          ],
          "choropleth": [
           {
            "colorbar": {
             "outlinewidth": 0,
             "ticks": ""
            },
            "type": "choropleth"
           }
          ],
          "contour": [
           {
            "colorbar": {
             "outlinewidth": 0,
             "ticks": ""
            },
            "colorscale": [
             [
              0,
              "#0d0887"
             ],
             [
              0.1111111111111111,
              "#46039f"
             ],
             [
              0.2222222222222222,
              "#7201a8"
             ],
             [
              0.3333333333333333,
              "#9c179e"
             ],
             [
              0.4444444444444444,
              "#bd3786"
             ],
             [
              0.5555555555555556,
              "#d8576b"
             ],
             [
              0.6666666666666666,
              "#ed7953"
             ],
             [
              0.7777777777777778,
              "#fb9f3a"
             ],
             [
              0.8888888888888888,
              "#fdca26"
             ],
             [
              1,
              "#f0f921"
             ]
            ],
            "type": "contour"
           }
          ],
          "contourcarpet": [
           {
            "colorbar": {
             "outlinewidth": 0,
             "ticks": ""
            },
            "type": "contourcarpet"
           }
          ],
          "heatmap": [
           {
            "colorbar": {
             "outlinewidth": 0,
             "ticks": ""
            },
            "colorscale": [
             [
              0,
              "#0d0887"
             ],
             [
              0.1111111111111111,
              "#46039f"
             ],
             [
              0.2222222222222222,
              "#7201a8"
             ],
             [
              0.3333333333333333,
              "#9c179e"
             ],
             [
              0.4444444444444444,
              "#bd3786"
             ],
             [
              0.5555555555555556,
              "#d8576b"
             ],
             [
              0.6666666666666666,
              "#ed7953"
             ],
             [
              0.7777777777777778,
              "#fb9f3a"
             ],
             [
              0.8888888888888888,
              "#fdca26"
             ],
             [
              1,
              "#f0f921"
             ]
            ],
            "type": "heatmap"
           }
          ],
          "histogram": [
           {
            "marker": {
             "pattern": {
              "fillmode": "overlay",
              "size": 10,
              "solidity": 0.2
             }
            },
            "type": "histogram"
           }
          ],
          "histogram2d": [
           {
            "colorbar": {
             "outlinewidth": 0,
             "ticks": ""
            },
            "colorscale": [
             [
              0,
              "#0d0887"
             ],
             [
              0.1111111111111111,
              "#46039f"
             ],
             [
              0.2222222222222222,
              "#7201a8"
             ],
             [
              0.3333333333333333,
              "#9c179e"
             ],
             [
              0.4444444444444444,
              "#bd3786"
             ],
             [
              0.5555555555555556,
              "#d8576b"
             ],
             [
              0.6666666666666666,
              "#ed7953"
             ],
             [
              0.7777777777777778,
              "#fb9f3a"
             ],
             [
              0.8888888888888888,
              "#fdca26"
             ],
             [
              1,
              "#f0f921"
             ]
            ],
            "type": "histogram2d"
           }
          ],
          "histogram2dcontour": [
           {
            "colorbar": {
             "outlinewidth": 0,
             "ticks": ""
            },
            "colorscale": [
             [
              0,
              "#0d0887"
             ],
             [
              0.1111111111111111,
              "#46039f"
             ],
             [
              0.2222222222222222,
              "#7201a8"
             ],
             [
              0.3333333333333333,
              "#9c179e"
             ],
             [
              0.4444444444444444,
              "#bd3786"
             ],
             [
              0.5555555555555556,
              "#d8576b"
             ],
             [
              0.6666666666666666,
              "#ed7953"
             ],
             [
              0.7777777777777778,
              "#fb9f3a"
             ],
             [
              0.8888888888888888,
              "#fdca26"
             ],
             [
              1,
              "#f0f921"
             ]
            ],
            "type": "histogram2dcontour"
           }
          ],
          "mesh3d": [
           {
            "colorbar": {
             "outlinewidth": 0,
             "ticks": ""
            },
            "type": "mesh3d"
           }
          ],
          "parcoords": [
           {
            "line": {
             "colorbar": {
              "outlinewidth": 0,
              "ticks": ""
             }
            },
            "type": "parcoords"
           }
          ],
          "pie": [
           {
            "automargin": true,
            "type": "pie"
           }
          ],
          "scatter": [
           {
            "fillpattern": {
             "fillmode": "overlay",
             "size": 10,
             "solidity": 0.2
            },
            "type": "scatter"
           }
          ],
          "scatter3d": [
           {
            "line": {
             "colorbar": {
              "outlinewidth": 0,
              "ticks": ""
             }
            },
            "marker": {
             "colorbar": {
              "outlinewidth": 0,
              "ticks": ""
             }
            },
            "type": "scatter3d"
           }
          ],
          "scattercarpet": [
           {
            "marker": {
             "colorbar": {
              "outlinewidth": 0,
              "ticks": ""
             }
            },
            "type": "scattercarpet"
           }
          ],
          "scattergeo": [
           {
            "marker": {
             "colorbar": {
              "outlinewidth": 0,
              "ticks": ""
             }
            },
            "type": "scattergeo"
           }
          ],
          "scattergl": [
           {
            "marker": {
             "colorbar": {
              "outlinewidth": 0,
              "ticks": ""
             }
            },
            "type": "scattergl"
           }
          ],
          "scattermap": [
           {
            "marker": {
             "colorbar": {
              "outlinewidth": 0,
              "ticks": ""
             }
            },
            "type": "scattermap"
           }
          ],
          "scattermapbox": [
           {
            "marker": {
             "colorbar": {
              "outlinewidth": 0,
              "ticks": ""
             }
            },
            "type": "scattermapbox"
           }
          ],
          "scatterpolar": [
           {
            "marker": {
             "colorbar": {
              "outlinewidth": 0,
              "ticks": ""
             }
            },
            "type": "scatterpolar"
           }
          ],
          "scatterpolargl": [
           {
            "marker": {
             "colorbar": {
              "outlinewidth": 0,
              "ticks": ""
             }
            },
            "type": "scatterpolargl"
           }
          ],
          "scatterternary": [
           {
            "marker": {
             "colorbar": {
              "outlinewidth": 0,
              "ticks": ""
             }
            },
            "type": "scatterternary"
           }
          ],
          "surface": [
           {
            "colorbar": {
             "outlinewidth": 0,
             "ticks": ""
            },
            "colorscale": [
             [
              0,
              "#0d0887"
             ],
             [
              0.1111111111111111,
              "#46039f"
             ],
             [
              0.2222222222222222,
              "#7201a8"
             ],
             [
              0.3333333333333333,
              "#9c179e"
             ],
             [
              0.4444444444444444,
              "#bd3786"
             ],
             [
              0.5555555555555556,
              "#d8576b"
             ],
             [
              0.6666666666666666,
              "#ed7953"
             ],
             [
              0.7777777777777778,
              "#fb9f3a"
             ],
             [
              0.8888888888888888,
              "#fdca26"
             ],
             [
              1,
              "#f0f921"
             ]
            ],
            "type": "surface"
           }
          ],
          "table": [
           {
            "cells": {
             "fill": {
              "color": "#EBF0F8"
             },
             "line": {
              "color": "white"
             }
            },
            "header": {
             "fill": {
              "color": "#C8D4E3"
             },
             "line": {
              "color": "white"
             }
            },
            "type": "table"
           }
          ]
         },
         "layout": {
          "annotationdefaults": {
           "arrowcolor": "#2a3f5f",
           "arrowhead": 0,
           "arrowwidth": 1
          },
          "autotypenumbers": "strict",
          "coloraxis": {
           "colorbar": {
            "outlinewidth": 0,
            "ticks": ""
           }
          },
          "colorscale": {
           "diverging": [
            [
             0,
             "#8e0152"
            ],
            [
             0.1,
             "#c51b7d"
            ],
            [
             0.2,
             "#de77ae"
            ],
            [
             0.3,
             "#f1b6da"
            ],
            [
             0.4,
             "#fde0ef"
            ],
            [
             0.5,
             "#f7f7f7"
            ],
            [
             0.6,
             "#e6f5d0"
            ],
            [
             0.7,
             "#b8e186"
            ],
            [
             0.8,
             "#7fbc41"
            ],
            [
             0.9,
             "#4d9221"
            ],
            [
             1,
             "#276419"
            ]
           ],
           "sequential": [
            [
             0,
             "#0d0887"
            ],
            [
             0.1111111111111111,
             "#46039f"
            ],
            [
             0.2222222222222222,
             "#7201a8"
            ],
            [
             0.3333333333333333,
             "#9c179e"
            ],
            [
             0.4444444444444444,
             "#bd3786"
            ],
            [
             0.5555555555555556,
             "#d8576b"
            ],
            [
             0.6666666666666666,
             "#ed7953"
            ],
            [
             0.7777777777777778,
             "#fb9f3a"
            ],
            [
             0.8888888888888888,
             "#fdca26"
            ],
            [
             1,
             "#f0f921"
            ]
           ],
           "sequentialminus": [
            [
             0,
             "#0d0887"
            ],
            [
             0.1111111111111111,
             "#46039f"
            ],
            [
             0.2222222222222222,
             "#7201a8"
            ],
            [
             0.3333333333333333,
             "#9c179e"
            ],
            [
             0.4444444444444444,
             "#bd3786"
            ],
            [
             0.5555555555555556,
             "#d8576b"
            ],
            [
             0.6666666666666666,
             "#ed7953"
            ],
            [
             0.7777777777777778,
             "#fb9f3a"
            ],
            [
             0.8888888888888888,
             "#fdca26"
            ],
            [
             1,
             "#f0f921"
            ]
           ]
          },
          "colorway": [
           "#636efa",
           "#EF553B",
           "#00cc96",
           "#ab63fa",
           "#FFA15A",
           "#19d3f3",
           "#FF6692",
           "#B6E880",
           "#FF97FF",
           "#FECB52"
          ],
          "font": {
           "color": "#2a3f5f"
          },
          "geo": {
           "bgcolor": "white",
           "lakecolor": "white",
           "landcolor": "#E5ECF6",
           "showlakes": true,
           "showland": true,
           "subunitcolor": "white"
          },
          "hoverlabel": {
           "align": "left"
          },
          "hovermode": "closest",
          "mapbox": {
           "style": "light"
          },
          "paper_bgcolor": "white",
          "plot_bgcolor": "#E5ECF6",
          "polar": {
           "angularaxis": {
            "gridcolor": "white",
            "linecolor": "white",
            "ticks": ""
           },
           "bgcolor": "#E5ECF6",
           "radialaxis": {
            "gridcolor": "white",
            "linecolor": "white",
            "ticks": ""
           }
          },
          "scene": {
           "xaxis": {
            "backgroundcolor": "#E5ECF6",
            "gridcolor": "white",
            "gridwidth": 2,
            "linecolor": "white",
            "showbackground": true,
            "ticks": "",
            "zerolinecolor": "white"
           },
           "yaxis": {
            "backgroundcolor": "#E5ECF6",
            "gridcolor": "white",
            "gridwidth": 2,
            "linecolor": "white",
            "showbackground": true,
            "ticks": "",
            "zerolinecolor": "white"
           },
           "zaxis": {
            "backgroundcolor": "#E5ECF6",
            "gridcolor": "white",
            "gridwidth": 2,
            "linecolor": "white",
            "showbackground": true,
            "ticks": "",
            "zerolinecolor": "white"
           }
          },
          "shapedefaults": {
           "line": {
            "color": "#2a3f5f"
           }
          },
          "ternary": {
           "aaxis": {
            "gridcolor": "white",
            "linecolor": "white",
            "ticks": ""
           },
           "baxis": {
            "gridcolor": "white",
            "linecolor": "white",
            "ticks": ""
           },
           "bgcolor": "#E5ECF6",
           "caxis": {
            "gridcolor": "white",
            "linecolor": "white",
            "ticks": ""
           }
          },
          "title": {
           "x": 0.05
          },
          "xaxis": {
           "automargin": true,
           "gridcolor": "white",
           "linecolor": "white",
           "ticks": "",
           "title": {
            "standoff": 15
           },
           "zerolinecolor": "white",
           "zerolinewidth": 2
          },
          "yaxis": {
           "automargin": true,
           "gridcolor": "white",
           "linecolor": "white",
           "ticks": "",
           "title": {
            "standoff": 15
           },
           "zerolinecolor": "white",
           "zerolinewidth": 2
          }
         }
        },
        "title": {
         "subtitle": {
          "text": "Testing in identical environments"
         },
         "text": "PPO vs DQN"
        },
        "width": 1000,
        "xaxis": {
         "anchor": "y",
         "domain": [
          0,
          1
         ]
        },
        "xaxis2": {
         "anchor": "y2",
         "domain": [
          0,
          1
         ],
         "title": {
          "text": "episodes"
         }
        },
        "yaxis": {
         "anchor": "x",
         "domain": [
          0.575,
          1
         ],
         "title": {
          "text": "rewards"
         }
        },
        "yaxis2": {
         "anchor": "x2",
         "domain": [
          0,
          0.425
         ],
         "title": {
          "text": "steps"
         }
        }
       }
      }
     },
     "metadata": {},
     "output_type": "display_data"
    }
   ],
   "source": [
    "fig = go.Figure().set_subplots(2,1)\n",
    "\n",
    "x = list(range(1,len(rewards_ppo_eq)))\n",
    "fig.add_scatter(x=x, y=rewards_ppo_eq, name='PPO rewards', mode='lines', row=1, col=1)\n",
    "fig.add_scatter(x=x, y=rewards_dqn_eq, name='DQN rewards', mode='lines', row=1, col=1)\n",
    "\n",
    "x = list(range(1,len(steps_ppo_eq)))\n",
    "fig.add_scatter(x=x, y=steps_ppo_eq, name='PPO steps', mode='lines', row=2, col=1)\n",
    "fig.add_scatter(x=x, y=steps_dqn_eq, name='DQN steps', mode='lines', row=2, col=1)\n",
    "\n",
    "fig.update_layout(title_text='PPO vs DQN', title_subtitle_text='Testing in identical environments', \n",
    "                  xaxis2=dict(title=dict(text='episodes')), yaxis1=dict(title=dict(text='rewards')), \n",
    "                  yaxis2=dict(title=dict(text='steps')), autosize=False, width=1000, height=600)\n",
    "fig.show()"
   ]
  },
  {
   "cell_type": "markdown",
   "id": "33660c9d",
   "metadata": {},
   "source": [
    "[plot](plots/testing_eq.png)"
   ]
  },
  {
   "cell_type": "markdown",
   "id": "dd430972",
   "metadata": {},
   "source": [
    "Båda tränade modellerna utför miljön bra, DQN når något högre poäng än PPO.\n",
    "\n",
    "I testning i identiska miljöer når båda agenterna väldigt lika poäng, DQN är dock i nästan alla episoder just lite bättre. Antalet steg agenterna utför i episoderna är intressantare, båda följer liknande mönster men DQN utför alltid mindre antal steg.\n",
    "\n",
    "Episod 7 & 10 är intressanta – PPO får just lite fler poäng men tar ändå fler steg än DQN. Dessa är också de episoder var antalet steg är närmast varandra. Möjligen har DQN utfört mer kostsamma handlingar än PPO i dessa episoder.\n",
    "\n",
    "På basis av dessa resultat skulle man kunna dra slutsatsen att denna DQN modell utför miljön bättre än denna PPO modell. DQN utför mindre steg för högre poäng, vilket på basis av miljöns belöningssystem, skulle påvisa att DQN utför landningen på ett stabilare sätt."
   ]
  },
  {
   "cell_type": "markdown",
   "id": "19ae7ec5",
   "metadata": {},
   "source": [
    ">I LunarLander är det helt acceptabelt att ha variation i poängen mellan episoder då startförhållandena är delvis slumpmässiga vilket gör att landningsättet (och då poängen) behöver variera episod till episod."
   ]
  }
 ],
 "metadata": {
  "kernelspec": {
   "display_name": ".venv (3.12.8)",
   "language": "python",
   "name": "python3"
  },
  "language_info": {
   "codemirror_mode": {
    "name": "ipython",
    "version": 3
   },
   "file_extension": ".py",
   "mimetype": "text/x-python",
   "name": "python",
   "nbconvert_exporter": "python",
   "pygments_lexer": "ipython3",
   "version": "3.12.8"
  }
 },
 "nbformat": 4,
 "nbformat_minor": 5
}
